{
 "cells": [
  {
   "cell_type": "markdown",
   "metadata": {},
   "source": [
    "<a id=\"section_top\"></a>\n",
    "# Trip Set Synthesis - with Diffused OD Locations in TAZ Areas"
   ]
  },
  {
   "cell_type": "markdown",
   "metadata": {},
   "source": [
    "An approach eliminating zero-estimate origin/destination pairs *before* synthesizing trips.  \n",
    "Given a typical trip table, this results in trip generation *speedups of at least 100 times*  \n",
    "compared to the object oriented approach, and more than 10 times faster  \n",
    "compared to carrying forward a complete trip matrix.\n",
    "\n",
    "In this version, trip origins and destinations are no longer simply placed at the centroid  \n",
    "of each TAZ. They are now placed statistically near TAZ centroids, but still within each TAZ."
   ]
  },
  {
   "cell_type": "markdown",
   "metadata": {},
   "source": [
    "## Code Structure\n",
    "> ### [Specification](#section_s)\n",
    "> ### [Parameters and Assertions](#section_paa)\n",
    "> ### [Random Table Functions](#section_rtf)\n",
    "> ### [Vectorized Functions](#section_vf)\n",
    "> ### [Non-Zero OD Pair Functions](#section_sf)\n",
    "> ### [Output Functions](#section_of)\n",
    "> ### [Main Execution Flow](#section_mef)"
   ]
  },
  {
   "cell_type": "markdown",
   "metadata": {},
   "source": [
    "<a id=\"section_s\"></a>\n",
    "#### [&#8681;](#section_paa)&nbsp;&nbsp;&nbsp;&nbsp;&nbsp; [&#8679;](#section_top)&nbsp;&nbsp;&nbsp;&nbsp;&nbsp; [top](#section_top)\n",
    "## Specification"
   ]
  },
  {
   "cell_type": "code",
   "execution_count": 581,
   "metadata": {
    "collapsed": true
   },
   "outputs": [],
   "source": [
    "# encoding: UTF-8\n",
    "\n",
    "'''\n",
    "Trip Set Synthesis\n",
    "------------------\n",
    "\n",
    "Poisson trip time assignment for transportation simulation.\n",
    "\n",
    "Takes   trip table, profile and TAZ files. A trip table is in the form of an\n",
    "-----   orig/dest matrix, which is a square matrix of esitmated trip counts\n",
    "        between transportation analysis zone (TAZ) pairs. So each index is the\n",
    "        list of TAZ identifiers for the particular municipal planning area.\n",
    "\n",
    "Returns trip set csv file. Trips are drawn from a poisson distribution based\n",
    "------- on trip rates derived from the trip table and profile. The first line\n",
    "        contains labels: depart, origLon, origLat, destLon, destLat. All\n",
    "        coordinates are in WGS84 standard decimal degrees. Each line is one trip.\n",
    "        The trips are sorted chronologically by departure epoch time.\n",
    "\n",
    "Originally written and tested using Python 3.9.6, on macOS 14.2.1\n",
    "'''\n",
    "\n",
    "__author__    = 'Rob Kempf'\n",
    "__status__    = 'Development'\n",
    "__version__   = '0.9.6'\n"
   ]
  },
  {
   "cell_type": "code",
   "execution_count": 582,
   "metadata": {
    "collapsed": true
   },
   "outputs": [],
   "source": [
    "'''\n",
    "Definitions\n",
    "-----------\n",
    "Tripsets are built from trip tables. There may be different types of trip tables,\n",
    "but the type used here estimates a trip count for a given time of day (ToD) period.\n",
    "\n",
    "A trip table is actually a square matrix with indicies identified by TAZ areas\n",
    "(Transportation Analysis Zones). The first dimension is by origin TAZ and\n",
    "the second is the destination TAZ.\n",
    "\n",
    "Values in these trip tables represent trip counts, that is, the number\n",
    "of trips from one origin to one destination counted over the ToD period.\n",
    "Our goal is to distribute synthesized trips over the the seconds in the\n",
    "ToD period. The resultant synthesized trips combine to form a trip set.\n",
    "\n",
    "'''\n",
    "pass"
   ]
  },
  {
   "cell_type": "code",
   "execution_count": 583,
   "metadata": {
    "collapsed": true
   },
   "outputs": [],
   "source": [
    "'''\n",
    "Toy Example\n",
    "-----------\n",
    "Let's assume we have trip tables for a toy municipal area with 10 TAZ areas.\n",
    "Then let's say this trip table represents a daily period from 6am to 10am, perhaps\n",
    "specifically on a Thursday. Here is how a simplified trip table might look:\n",
    "\n",
    "               D E S T I N A T I O N\n",
    "   TAZ  0   1   2   3   4   5   6   7   8   9\n",
    "       --- --- --- --- --- --- --- --- --- ---\n",
    "    0 | 43  40  18  27  98  51  18  92   4  78\n",
    "    1 | 23   7  97  60  90  46  53  68  41  40\n",
    "O   2 | 29  27  50  61  69   3  75  91  95  18\n",
    "R   3 | 10  86  83  30  43  10  12  30  29  88\n",
    "I   4 | 68  76  37  84  67  20  34  58  39  26\n",
    "G   5 | 23  97  24  82  32  70  56  79  68  60\n",
    "I   6 | 50  65  22  27  58  51  22  50  46  86\n",
    "N   7 | 28  13   4  27  66  11  41  79  26  78\n",
    "    8 | 94  53  71   2  62  49  49   7  85  90\n",
    "    9 | 62  39  85  11   3  65  91  46  63  51\n",
    "\n",
    "Again, the dimensions represent each TAZ area. The values are the estimated\n",
    "trip counts over the ToD period (4 hours). So between 6am and 10am, the trip\n",
    "count from TAZ #5 (origin) to TAZ #2 (destination) is expected to be 24 trips.\n",
    "\n",
    "Take just this single example [5, 2] of 24 trips. Using a probability function,\n",
    "we can assign trips for the given time of day period (from 6am to 10am)\n",
    "by first splitting the ToD period into smaller time slots. The time slots are\n",
    "typically sized to minutes, so in this case there are 240 time slots (4 hours).\n",
    "\n",
    "So then we assume a Poisson distribution inside the ToD and generate a random\n",
    "trip count for each time slot using the time slot trip rates.\n",
    "\n",
    "Finally, we construct the trip set as a table of departure times, origins, and\n",
    "destinations using the trip counts generated for each estimate period.\n",
    "\n",
    "The code below generalizes this process in vectorized form.\n",
    "'''\n",
    "pass"
   ]
  },
  {
   "cell_type": "code",
   "execution_count": 584,
   "metadata": {
    "collapsed": true
   },
   "outputs": [],
   "source": [
    "import os\n",
    "import sys\n",
    "import time\n",
    "import numpy as np\n",
    "import pandas as pd\n",
    "import geopandas as gpd\n",
    "import shapely.geometry as geo\n",
    "import matplotlib.pyplot as plt\n",
    "import shapely.speedups\n",
    "shapely.speedups.enable()"
   ]
  },
  {
   "cell_type": "markdown",
   "metadata": {},
   "source": [
    "<a id=\"section_paa\"></a>\n",
    "#### [&#8681;](#section_rtf)&nbsp;&nbsp;&nbsp;&nbsp;&nbsp; [&#8679;](#section_s)&nbsp;&nbsp;&nbsp;&nbsp;&nbsp; [top](#section_top)\n",
    "## Parameters and Assertions"
   ]
  },
  {
   "cell_type": "code",
   "execution_count": 585,
   "metadata": {
    "collapsed": true
   },
   "outputs": [],
   "source": [
    "''' Configuration Parameters '''\n",
    "\n",
    "# test with random tables. False means load from files\n",
    "testRandom          =      False\n",
    "# test all day profile\n",
    "testAllDay          =      True\n",
    "# ship diffusion step\n",
    "skipDiffusion       =      False\n",
    "# choose normal or uniform diffusion of origins and destinations\n",
    "normalDiffusion     =      False\n",
    "# chose to save shape file\n",
    "saveShapeFile       =      False\n",
    "\n",
    "# set estimated trips\n",
    "totalTripsInDay     =      3_820_000\n",
    "# set daily split times\n",
    "moringStart24Hour   =      6.5\n",
    "middayStart24Hour   =      9.5\n",
    "eveningStart24Hour  =      15.5\n",
    "offPeakStart24Hour  =      18.5\n",
    "# set off-peak half\n",
    "offPeakAMorPM       =     'PM'\n",
    "# set day of week\n",
    "dayOfWeekString     =     'WEDNESDAY'\n",
    "# set time zone\n",
    "timeZoneOffsetHours =      -6 # CST (UTC-6 in January)\n",
    "# set file directory\n",
    "fileDir             =     'austin'\n",
    "# set TAZ directory\n",
    "tazDir              =     'campo'\n",
    "# shape file directory\n",
    "shapeFileDir        =     'shape'\n",
    "# set TAZ centroid file\n",
    "centroidFile        =     '2010_CAMPO_centroids.shp'\n",
    "# set TAZ area file\n",
    "tazAreaFile         =     '2010 Master TAZ.shp'\n",
    "# set UTM zone\n",
    "utmZone             =     'epsg:32614' # Austin, TX\n",
    "# set OD diffusion factor\n",
    "diffusionFactor     =      0.5 # higher means larger std dev\n",
    "# set TAZ to plot\n",
    "tazToPlot           =      697 # counting starts from 1, try 1326 or 697, both outside their TAZ\n",
    "# set profile file\n",
    "dailyProfileFile    =     'Seattle_traffic_profile.csv'\n",
    "# set trip table file ...\n",
    "tripTableFile       =     'Austin_trips_off_peak.csv'"
   ]
  },
  {
   "cell_type": "code",
   "execution_count": 586,
   "metadata": {},
   "outputs": [
    {
     "name": "stdout",
     "output_type": "stream",
     "text": [
      "\n",
      "test all day profile with trip table   ...  Austin_trips_off_peak.csv\n",
      "saving output to file named            ...  trip_set_test_all_day.csv\n"
     ]
    }
   ],
   "source": [
    "''' File Parameters '''\n",
    "\n",
    "# ... from file choices used to derive time of day\n",
    "if tripTableFile    ==    'Austin_trips_morning.csv':\n",
    "    timeOfDayString = 'morning'\n",
    "if tripTableFile    ==    'Austin_trips_midday.csv':\n",
    "    timeOfDayString = 'midday'\n",
    "if tripTableFile    ==    'Austin_trips_evening.csv':\n",
    "    timeOfDayString = 'evening'\n",
    "if tripTableFile    ==    'Austin_trips_off_peak.csv':\n",
    "    timeOfDayString = 'offPeak' + offPeakAMorPM\n",
    "    \n",
    "# use dynamic syntax to name trip set file\n",
    "tripSetFileName     =     'trip_set_' + tripTableFile\n",
    "if 'off' in tripTableFile:\n",
    "    tripSetFileName = tripSetFileName[:-4] + '_' + offPeakAMorPM + '.csv'\n",
    "    \n",
    "if testAllDay and not testRandom:\n",
    "    timeOfDayString = 'allDay'\n",
    "    tripSetFileName = 'trip_set_test_all_day.csv'\n",
    "    print('\\ntest all day profile with trip table   ...  ', end='')\n",
    "    print(tripTableFile)\n",
    "    print('saving output to file named            ...  ', end='')\n",
    "    print(tripSetFileName)"
   ]
  },
  {
   "cell_type": "code",
   "execution_count": 587,
   "metadata": {},
   "outputs": [
    {
     "name": "stdout",
     "output_type": "stream",
     "text": [
      "dayOfWeek:\t Wednesday\n",
      "timeOfDayString: allDay\n",
      "startEpoch:\t 540000\n",
      "timeOfDayList:\n",
      "[390, 570, 930, 1110]\n"
     ]
    }
   ],
   "source": [
    "''' Time Parameters '''\n",
    "\n",
    "secPerSlot   = 60     # seconds per profile time slot (usually 60)\n",
    "\n",
    "# epoch seconds position day of week and time of day as int32 seconds\n",
    "SEC_PER_HOUR = 3600\n",
    "SEC_PER_DAY  = 24 * SEC_PER_HOUR\n",
    "TIME_ZONE_OFFSET_SEC = SEC_PER_HOUR * timeZoneOffsetHours\n",
    "# time basis is Monday, January 5, 1970 12:00:00 AM (epoch 345600)\n",
    "FIRST_MONDAY = 345600\n",
    "MONDAY    = FIRST_MONDAY - TIME_ZONE_OFFSET_SEC\n",
    "TUESDAY   = MONDAY    + SEC_PER_DAY\n",
    "WEDNESDAY = TUESDAY   + SEC_PER_DAY\n",
    "THURSDAY  = WEDNESDAY + SEC_PER_DAY\n",
    "FRIDAY    = THURSDAY  + SEC_PER_DAY\n",
    "SATURDAY  = FRIDAY    + SEC_PER_DAY\n",
    "SUNDAY    = SATURDAY  + SEC_PER_DAY\n",
    "dayOfWeek = eval(dayOfWeekString)\n",
    "\n",
    "# time of day list for scaling rates\n",
    "timeOfDayList = [\\\n",
    "int(moringStart24Hour  * SEC_PER_HOUR / secPerSlot),\\\n",
    "int(middayStart24Hour  * SEC_PER_HOUR / secPerSlot),\\\n",
    "int(eveningStart24Hour * SEC_PER_HOUR / secPerSlot),\\\n",
    "int(offPeakStart24Hour * SEC_PER_HOUR / secPerSlot)]\n",
    "\n",
    "# derived time parameters\n",
    "morningStartSec = dayOfWeek + (moringStart24Hour  * SEC_PER_HOUR)\n",
    "middayStartSec  = dayOfWeek + (middayStart24Hour  * SEC_PER_HOUR)\n",
    "eveningStartSec = dayOfWeek + (eveningStart24Hour * SEC_PER_HOUR)\n",
    "offPeakStartSec = dayOfWeek + (offPeakStart24Hour * SEC_PER_HOUR)\n",
    "offPeakAM  = (    dayOfWeek,        int(morningStartSec))\n",
    "morning    = (int(morningStartSec), int(middayStartSec))\n",
    "midday     = (int(middayStartSec),  int(eveningStartSec))\n",
    "evening    = (int(eveningStartSec), int(offPeakStartSec))\n",
    "offPeakPM  = (int(offPeakStartSec), dayOfWeek + SEC_PER_DAY)\n",
    "allDay     = (    dayOfWeek,        dayOfWeek + SEC_PER_DAY)\n",
    "\n",
    "timeOfDay  = eval(timeOfDayString)\n",
    "startEpoch = timeOfDay[0]\n",
    "diffusionRunTime = 0\n",
    "\n",
    "print('dayOfWeek:\\t', time.strftime('%A', time.localtime(dayOfWeek)))\n",
    "print('timeOfDayString:', timeOfDayString)\n",
    "print('startEpoch:\\t', startEpoch)\n",
    "print('timeOfDayList:')\n",
    "print(timeOfDayList)"
   ]
  },
  {
   "cell_type": "code",
   "execution_count": 588,
   "metadata": {
    "collapsed": true
   },
   "outputs": [],
   "source": [
    "''' Random Run Config Parameters '''\n",
    "\n",
    "# trip table parameters for random run\n",
    "numTAZ     = 100   # number of transportation analysis zones\n",
    "tripStdDev = 200   # standard deviation of trips from zero\n",
    "\n",
    "# trip count parameters for random run\n",
    "numSlots   = 120   # time slots for trips in orig/dest matrix period (usually minutes)\n",
    "\n",
    "# parabolic trip rate profile parameters (for uniform profile, set aParabolic = 0)\n",
    "aParabolic = 1.0  # - is a max, + is a min, smaller abs values flatten curvature\n",
    "hParabolic = 0.2  # shifts profile parabola by time across time slots\n",
    "\n",
    "# random TAZ geo parameters (sets bounding box)\n",
    "minLon, maxLon, minLat, maxLat = (-98.5, -97.0, 29.5, 31.0)"
   ]
  },
  {
   "cell_type": "code",
   "execution_count": 589,
   "metadata": {
    "collapsed": true
   },
   "outputs": [],
   "source": [
    "''' Random Run Time Parameters '''\n",
    "\n",
    "if testRandom:\n",
    "    timeOfDayString = 'random'\n",
    "    tripSetFileName = 'trip_set_random.csv'\n",
    "    dayOfWeekString = 'THURSDAY'\n",
    "    randomStart     =  21600   # 6:00:00 AM Thursday, January 1, 1970 GMT\n",
    "    timeOfDay       = (randomStart, randomStart + (numSlots * secPerSlot))\n",
    "    dayOfWeek       = randomStart - TIME_ZONE_OFFSET_SEC\n",
    "    startEpoch      = timeOfDay[0]\n",
    "    print('for random run:')\n",
    "    print('dayOfWeek:\\t', time.strftime('%A', time.localtime(dayOfWeek)))\n",
    "    print('timeOfDayString:', timeOfDayString)\n",
    "    print('startEpoch:\\t', startEpoch)"
   ]
  },
  {
   "cell_type": "code",
   "execution_count": 590,
   "metadata": {
    "collapsed": true
   },
   "outputs": [],
   "source": [
    "''' Memory Footprint Parameters '''\n",
    "\n",
    "# integer type sized to control memory footprint\n",
    "intBytes   = 2\n",
    "intType    = 'i' + str(intBytes)\n",
    "maxInt     = 2**(8*intBytes-1) - 1"
   ]
  },
  {
   "cell_type": "code",
   "execution_count": 591,
   "metadata": {
    "collapsed": true
   },
   "outputs": [],
   "source": [
    "''' Code Safety Assertions '''\n",
    "\n",
    "assert(1 <= numTAZ     <= maxInt)\n",
    "assert(1 <= numSlots   <= maxInt)\n",
    "assert(1 <= secPerSlot <= maxInt)\n",
    "assert(1 <= 6.1 * tripStdDev <= maxInt) # 1e-9 chance of exceeding bounds\n",
    "assert(0 <= startEpoch <= 2**31 - 1)    # epoch is int32 and must be >= 0"
   ]
  },
  {
   "cell_type": "markdown",
   "metadata": {},
   "source": [
    "<a id=\"section_rtf\"></a>\n",
    "#### [&#8681;](#section_vf)&nbsp;&nbsp;&nbsp;&nbsp;&nbsp; [&#8679;](#section_paa)&nbsp;&nbsp;&nbsp;&nbsp;&nbsp; [top](#section_top)\n",
    "## Random Table Functions"
   ]
  },
  {
   "cell_type": "markdown",
   "metadata": {},
   "source": [
    "*Functions used to test vectorized functions without needing to load trip files.*"
   ]
  },
  {
   "cell_type": "code",
   "execution_count": 592,
   "metadata": {
    "collapsed": true
   },
   "outputs": [],
   "source": [
    "def createRandomTripTable(numTAZ, tripStdDev):\n",
    "    ''' Without a trip table to load, create one with random trip counts '''\n",
    "    tripTable = np.random.normal(scale=tripStdDev, size=(numTAZ,numTAZ)).astype(intType)\n",
    "    tripTable[tripTable < 0] = 0 # no negative trips (about half go to zero)\n",
    "    print('\\nCreated tripTable with specified trip counts ('+str(numTAZ)+' X '+str(numTAZ)+'):')\n",
    "    print(tripTable)\n",
    "    print('\\ntripTable dtype:', tripTable.dtype)\n",
    "    print('Number of TAZs :', numTAZ)\n",
    "    print('Pair trip stdDev:', tripStdDev)\n",
    "    print('Total TAZ pairs:', '{:,}'.format(tripTable.size))\n",
    "    print('time of day period:', timeOfDayString)\n",
    "    percentNonZeroElements = 100 * (np.sum(tripTable > 0) / tripTable.size)\n",
    "    print('Non-zero elements:', '{:.2f}'.format(percentNonZeroElements), '%')\n",
    "    print('Total trips in tripTable:', '{:,}'.format(np.sum(tripTable)))\n",
    "    return tripTable, numTAZ "
   ]
  },
  {
   "cell_type": "code",
   "execution_count": 593,
   "metadata": {
    "collapsed": true
   },
   "outputs": [],
   "source": [
    "def createParabolicProfile(numSlots, a, h):\n",
    "    ''' Construct parabolic profile factors and plot profile.\n",
    "        The idea is to use a function to shape trip rates across time slots\n",
    "        by building a profile vector holding a rate factor for each time slot.\n",
    "        Use parabolic function -> profile = a(t – h)^2 + k\n",
    "        where a = flatness, h = vertex, and k = 1 - a(h^2 -h + 1/3) from 0 to 1\n",
    "        CAUTION   both \"a\" and \"h\" must be in range for the parabola\n",
    "                  to span 0 <= t <= 1 such that profile >= 0 '''\n",
    "    k = 1 - a*(h**2 -h + 1/3) # 0 to 1 def integral of parabola, for k with area=1\n",
    "    t = np.arange(numSlots+1)[1:]/numSlots # t array = 1/numSlots to 1\n",
    "    profile = a*(t-h)**2 + k # parabolic profile\n",
    "    # report profile function parameters\n",
    "    print('\\nProfile attributes:')\n",
    "    print('Parabolic curvature coefficient    :', '{:5.3f}'.format(a))\n",
    "    print('Horizontal translation of parabola :', '{:5.3f}'.format(h))\n",
    "    print('Vertical translation of parabola   :', '{:5.3f}'.format(k))\n",
    "    return profile, numSlots"
   ]
  },
  {
   "cell_type": "code",
   "execution_count": 594,
   "metadata": {
    "collapsed": true
   },
   "outputs": [],
   "source": [
    "def createRandomTazTable(numTAZ, minLon, maxLon, minLat, maxLat):\n",
    "    ''' Build table of random lon/lats to translate from TAZ indexes '''\n",
    "    lonRange = maxLon - minLon\n",
    "    latRange = maxLat - minLat\n",
    "    tazTable = np.zeros((numTAZ, 2), dtype='f4')\n",
    "    tazTable[:,0] = np.random.random(size=numTAZ) * lonRange + minLon # longitudes\n",
    "    tazTable[:,1] = np.random.random(size=numTAZ) * latRange + minLat # latitudes\n",
    "    print(tazTable[:10,:])\n",
    "    print('\\nTAZ lon/lat table shape:', tazTable.shape, ' ')\n",
    "    return tazTable"
   ]
  },
  {
   "cell_type": "markdown",
   "metadata": {
    "collapsed": true
   },
   "source": [
    "<a id=\"section_vf\"></a>\n",
    "#### [&#8681;](#section_sf)&nbsp;&nbsp;&nbsp;&nbsp;&nbsp; [&#8679;](#section_rtf)&nbsp;&nbsp;&nbsp;&nbsp;&nbsp; [top](#section_top)\n",
    "## Vectorized Functions"
   ]
  },
  {
   "cell_type": "markdown",
   "metadata": {},
   "source": [
    "*Main functions used to transform trip files to a trip set.*"
   ]
  },
  {
   "cell_type": "code",
   "execution_count": 595,
   "metadata": {
    "collapsed": true
   },
   "outputs": [],
   "source": [
    "def loadTripTable(dirName, fileName, timeOfDayString, offPeakAM, offPeakPM):\n",
    "    ''' load trip table matrix from file '''\n",
    "    filePath = os.path.join(dirName, fileName)\n",
    "    print('trip table matrix file path:', filePath)\n",
    "    tripTable = pd.read_csv(filePath)\n",
    "    tripTable = tripTable.iloc[1:,2:] # removes integer headers from original file\n",
    "    tripTable = tripTable.as_matrix() # convert from pandas to numpy for interim processing\n",
    "    if 'off' in timeOfDayString:\n",
    "        tripTable = splitOffPeak(tripTable, timeOfDayString, offPeakAM, offPeakPM)\n",
    "    assert(np.all(np.amin(tripTable) >= 0)) # all tripTable values > = 0\n",
    "    assert(tripTable[0,:].size == tripTable[:,0].size) # is square\n",
    "    numTAZ = tripTable[0,:].size\n",
    "    print('\\nLoaded tripTable with specified trip counts ('+str(numTAZ)+' X '+str(numTAZ)+'):')\n",
    "    print(tripTable)\n",
    "    print('\\ntripTable dtype:', tripTable.dtype)\n",
    "    print('Total TAZ pairs:', '{:,}'.format(tripTable.size))\n",
    "    print('time of day period:', timeOfDayString)\n",
    "    percentNonZeroElements = 100 * (np.sum(tripTable > 0) / tripTable.size)\n",
    "    print('Non-zero elements :', '{:.2f}'.format(percentNonZeroElements), '%')\n",
    "    print('Total trips in tripTable:', '{:,}'.format(int(np.sum(tripTable))))\n",
    "    return tripTable, numTAZ"
   ]
  },
  {
   "cell_type": "code",
   "execution_count": 596,
   "metadata": {
    "collapsed": true
   },
   "outputs": [],
   "source": [
    "def splitOffPeak(tripTable, timeOfDayString, offPeakAM, offPeakPM):\n",
    "    ''' off-peak trip table ranges across two separate periods. Split it. '''\n",
    "    amLength = offPeakAM[1] - offPeakAM[0]\n",
    "    pmLength = offPeakPM[1] - offPeakPM[0]\n",
    "    amSplitRatio = amLength / (amLength + pmLength)\n",
    "    if 'AM' in timeOfDayString:\n",
    "        tripTable = tripTable * amSplitRatio       # AM\n",
    "    else:\n",
    "        tripTable = tripTable * (1 - amSplitRatio) # PM\n",
    "    return tripTable # as doubles with fractional trips"
   ]
  },
  {
   "cell_type": "code",
   "execution_count": 597,
   "metadata": {
    "collapsed": true
   },
   "outputs": [],
   "source": [
    "def loadDayProfile(dirName, fileName, dayOfWeek, timeOfDay, secPerSlot):\n",
    "    ''' load time of day profile from file '''\n",
    "    filePath = os.path.join(dirName, fileName)\n",
    "    print('Traffic profile file path:', filePath)\n",
    "    profile = pd.read_csv(filePath)\n",
    "    profile = profile.iloc[:,2]   # selects profile column from original file\n",
    "    profile = profile.as_matrix() # convert from pandas to numpy for interim processing\n",
    "    assert(np.all(np.amin(profile) >= 0)) # all profile values > = 0\n",
    "    profile = (profile / profile.sum()) * profile.size  # normalize over all values\n",
    "    dayProfile = np.copy(profile) # retain copy\n",
    "    print('\\nLoaded day profile size:', profile.size)\n",
    "    print(profile[:8])    \n",
    "    # now select profile rates for this period and normalize values\n",
    "    begin = (timeOfDay[0] - dayOfWeek) // secPerSlot # seconds to period in day\n",
    "    end   = (timeOfDay[1] - dayOfWeek) // secPerSlot\n",
    "    profile = profile[begin:end] # subset slice\n",
    "    numSlots = profile.size\n",
    "    profile = (profile / profile.sum()) * numSlots # profile now a proportion of ToD period\n",
    "    print('\\nTime of day profile:', numSlots)\n",
    "    print(profile[:8])\n",
    "    print('\\nprofile dtype:', profile.dtype)\n",
    "    return profile, numSlots, dayProfile"
   ]
  },
  {
   "cell_type": "code",
   "execution_count": 598,
   "metadata": {
    "collapsed": true
   },
   "outputs": [],
   "source": [
    "def calculateRateTable(tripTable, numSlots):\n",
    "    ''' Build the associated rate space with trip rates per time slot '''\n",
    "    rateTable = tripTable / numSlots # trip rates scaled to time slot length\n",
    "    print('Calculated rateTable of trip rates per time slot:\\n')\n",
    "    np.set_printoptions(precision=3)\n",
    "    print(rateTable)\n",
    "    print('\\nrateTable dtype:', rateTable.dtype)\n",
    "    print('Number of TAZ zones :', rateTable[:,0].size)\n",
    "    print('Number of time slots:', numSlots)\n",
    "    return rateTable"
   ]
  },
  {
   "cell_type": "code",
   "execution_count": 599,
   "metadata": {
    "collapsed": true
   },
   "outputs": [],
   "source": [
    "def getScaleFactor(rateTable, tripTable, dayProfile, totalTripsInDay, timeOfDayList, timeOfDayString):\n",
    "    ''' trip rates scaled proportionally to total trips per day from daily profile '''\n",
    "    print('Assumes day profile has 1440 one minute time slots.')\n",
    "    print('This daylong profile size is:', dayProfile.size)\n",
    "    if dayProfile.size != 1440:\n",
    "        print('\\n*** error: daylong profile length not 1440 minutes. ***\\n')\n",
    "        exit()\n",
    "    trafficPeriod = {\n",
    "        'offPeakAM': (0, timeOfDayList[0]),\n",
    "        'morning'  : (timeOfDayList[0], timeOfDayList[1]),\n",
    "        'midday'   : (timeOfDayList[1], timeOfDayList[2]),\n",
    "        'evening'  : (timeOfDayList[2], timeOfDayList[3]),\n",
    "        'offPeakPM': (timeOfDayList[3], dayProfile.size),\n",
    "        'allDay'   : (0, 1440)\n",
    "    }\n",
    "    \n",
    "    tod = trafficPeriod[timeOfDayString] # tuple of start and end minutes\n",
    "    todProfileSubset = dayProfile[tod[0]:tod[1]]\n",
    "    portion = todProfileSubset.sum() / dayProfile.sum()\n",
    "    print('timeOfDayString:', timeOfDayString, tod)\n",
    "    print('portion of daily trip target for this time of day period :', '{:5.2f}'.format(portion * 100), '%')\n",
    "    print('total trips in the trip table for this time of day period:', '{:,}'.format(int(tripTable.sum())))\n",
    "    print('target total trips for day:', '{:,}'.format(totalTripsInDay))\n",
    "    \n",
    "    dirName  = 'austin'\n",
    "    fileList = ['Austin_trips_morning.csv', 'Austin_trips_midday.csv', \\\n",
    "                'Austin_trips_evening.csv', 'Austin_trips_off_peak.csv']\n",
    "    TotalTripsInTables = 0\n",
    "    for fileName in fileList:\n",
    "        sumOfTripTable = loadTableSize(dirName, fileName)\n",
    "        TotalTripsInTables += sumOfTripTable\n",
    "    print('Total trips across all trip tables:', '{:,}'.format(TotalTripsInTables))\n",
    "    currentShare = tripTable.sum() / TotalTripsInTables\n",
    "    scaleFactor  = (portion / currentShare) * (totalTripsInDay / TotalTripsInTables)\n",
    "    return scaleFactor"
   ]
  },
  {
   "cell_type": "code",
   "execution_count": 600,
   "metadata": {
    "collapsed": true
   },
   "outputs": [],
   "source": [
    "def loadTableSize(dirName, fileName):\n",
    "    ''' load trip table matrix from file '''\n",
    "    filePath = os.path.join(dirName, fileName)\n",
    "    print('trip table matrix file path:', filePath)\n",
    "    tripTable = pd.read_csv(filePath)\n",
    "    tripTable = tripTable.iloc[1:,2:] # removes integer headers from original file\n",
    "    tripTable = tripTable.as_matrix() # convert from pandas to numpy for interim processing\n",
    "    assert(np.all(np.amin(tripTable) >= 0)) # all tripTable values > = 0\n",
    "    assert(tripTable[0,:].size == tripTable[:,0].size) # is square\n",
    "    return int(tripTable.sum())"
   ]
  },
  {
   "cell_type": "code",
   "execution_count": 601,
   "metadata": {
    "collapsed": true
   },
   "outputs": [],
   "source": [
    "def loadCentroidTazTable(numTAZ, tazDir, centroidFile, tazAreaFile):\n",
    "    ''' Load centroid  TAZ table from shape file for lon/lats to translate from TAZ indexes '''\n",
    "    print('numTAZ:', numTAZ)\n",
    "    tazTable = np.zeros((numTAZ, 2))\n",
    "    \n",
    "    # first load TAZ centroids to build tazTable\n",
    "    filePath = os.path.join(tazDir, centroidFile)\n",
    "    centroidGdf = gpd.read_file(filePath)    \n",
    "    centroidGdf = centroidGdf[['TAZ', 'geometry']] # trim table\n",
    "    centroidGdf.sort_values(by='TAZ', inplace=True)\n",
    "    centroidGdf = centroidGdf.reset_index(drop=True)\n",
    "    if centroidGdf.shape[0] < numTAZ:\n",
    "        print('error occured. TAZ count in shape file does not match number of TAZs in trip tables')\n",
    "        return tazTable\n",
    "    centroidGdf = centroidGdf.head(numTAZ) # trim TAZs beyond the number in the trip tables\n",
    "    print('\\n', centroidGdf.head(5))\n",
    "    tazTable[:,0] = centroidGdf.geometry.map(lambda p: p.x)\n",
    "    tazTable[:,1] = centroidGdf.geometry.map(lambda p: p.y)\n",
    "    \n",
    "    # now load TAZ area data\n",
    "    filePath = os.path.join(tazDir, tazAreaFile)\n",
    "    tazAreaGdf = gpd.read_file(filePath)\n",
    "    tazAreaGdf = tazAreaGdf[['TAZ', 'AREA', 'geometry']] # trim table\n",
    "    tazAreaGdf.sort_values(by='TAZ', inplace=True)\n",
    "    tazAreaGdf = tazAreaGdf.reset_index(drop=True)\n",
    "    if tazAreaGdf.shape[0] < numTAZ:\n",
    "        print('error occured. TAZ count in shape file does not match number of TAZs in trip tables')\n",
    "        return tazTable\n",
    "    tazAreaGdf = tazAreaGdf.head(numTAZ) # trim TAZs beyond the number in the trip tables\n",
    "    print('\\n', tazAreaGdf.head(5))\n",
    "\n",
    "    print('\\nTAZ lon/lat table shape:', tazTable.shape, ' ')\n",
    "    print(tazTable[:5,:])\n",
    "    return tazTable, centroidGdf, tazAreaGdf"
   ]
  },
  {
   "cell_type": "code",
   "execution_count": 602,
   "metadata": {
    "collapsed": true
   },
   "outputs": [],
   "source": [
    "def buildTripSet(countTable, secPerSlot):\n",
    "    print('Building tripSet ...'); startTime = time.time()\n",
    "    numSyntheticTrips = np.sum(countTable[:,3])\n",
    "    tripSet = pd.DataFrame(np.zeros( (numSyntheticTrips,), \\\n",
    "    dtype=[('depart','i4'),('origLon','f4'),('origLat','f4'),('destLon','f4'),('destLat','f4')]))\n",
    "    print('tripSet shape:', tripSet.shape)\n",
    "    print('tripSet depart series dtype:', tripSet.depart.dtype)\n",
    "    print('tripSet lon/lat series dtype:', tripSet.origLon.dtype)\n",
    "    print('tripSet memory footprint in bytes:', '{:,}'.format(4 * tripSet.size))\n",
    "    print('Seconds to build tripSet:', '{:5.2f}'.format(time.time()-startTime))\n",
    "    return tripSet"
   ]
  },
  {
   "cell_type": "code",
   "execution_count": 603,
   "metadata": {
    "collapsed": true
   },
   "outputs": [],
   "source": [
    "def MonteCarloTime(tripSet, secPerSlot, startEpoch):\n",
    "    ''' spread trips randomly over seconds in each time slot '''\n",
    "    tripSet.depart *= secPerSlot # converts timeSlots to seconds\n",
    "    tripSet.depart += startEpoch # time now in epoch seconds\n",
    "    tripSet.depart += np.random.randint(0, secPerSlot, (tripSet.depart.shape))\n",
    "    return tripSet"
   ]
  },
  {
   "cell_type": "markdown",
   "metadata": {},
   "source": [
    "![title](img/trip_space.png)"
   ]
  },
  {
   "cell_type": "code",
   "execution_count": 604,
   "metadata": {
    "collapsed": true
   },
   "outputs": [],
   "source": [
    "def buildCountTable(numTAZ, numSlots, intType, intBytes): # superseded by buildNzPairCountTable\n",
    "    ''' Allocate countTable as [timeSlot,orig,dest,count], where count\n",
    "        is the number of trips in that timeSlot from orig to dest.\n",
    "        Alloacte the full table first, then fill in the first three columns.\n",
    "        The last column (count) will be filled in when trips are synthesized '''\n",
    "    print('\\ncountTable RAM:')\n",
    "    print('countTable maxInt:', 2**(8*intBytes-1) - 1)\n",
    "    countTableColumns = 4\n",
    "    footprint = countTableColumns * numSlots * numTAZ**2 * intBytes\n",
    "    print('synthesized countTable memory footprint in bytes:', '{:,}'.format(footprint))\n",
    "    print('\\nBuilding countTable ...'); startTime = time.time()\n",
    "    numCounts  = numSlots * numTAZ**2 # one for every timeSlot and TAZ orig/dest\n",
    "    countTable = np.zeros((numCounts, countTableColumns), dtype=intType) # [timeSlot,orig,dest,count]\n",
    "    countTable[:,0] = np.repeat(np.arange(numSlots), numTAZ**2) # timeSlot\n",
    "    countTable[:,1] = np.tile(np.repeat(np.arange(numTAZ), numTAZ), numSlots) # origin\n",
    "    countTable[:,2] = np.tile(np.arange(numTAZ), numTAZ * numSlots) # destination\n",
    "    print('Total rows in countTable:', '{:,}'.format(countTable.shape[0]))\n",
    "    print('Total bytes used by countTable:', '{:,}'.format(intBytes * countTable.size))\n",
    "    print('Seconds to build countTable:', '{:5.2f}'.format(time.time()-startTime))\n",
    "    return countTable"
   ]
  },
  {
   "cell_type": "code",
   "execution_count": 605,
   "metadata": {
    "collapsed": true
   },
   "outputs": [],
   "source": [
    "def synthesizeTrips(tripTable, rateTable, profile, countTable): # superseded by synthesizeNzPairTrips\n",
    "    ''' Synthesize all trips with profile rates across all time slots.\n",
    "        Synthesized trips are arranged by (timeSlot, origTAZ, destTAZ)\n",
    "        and then raveled into one column in countTable[:,3].\n",
    "        When sparse, trips are instead arranged by (timeSlot, nzOdPair).\n",
    "        Uses the same profile factors across all TAZ pairs '''\n",
    "    print('\\nSynthesizing trips ...'); startTime = time.time()\n",
    "    # match array dimensions for elementwise multiplication\n",
    "    rateTable = rateTable[tripTable > 0].ravel() # only non-zeros\n",
    "    profile   = profile[:,None]\n",
    "    rateTable = rateTable[None,:]\n",
    "    print('profile.shape:', profile.shape)\n",
    "    print('rateTable.shape:', rateTable.shape)\n",
    "    # synthesize trips by random draw from poisson distribution with given rates\n",
    "    trips = np.random.poisson(profile * rateTable)\n",
    "    print('poisson trips shape:', trips.shape)\n",
    "    countTable[:,3] = trips.ravel() # flattten trips by reference into countTable\n",
    "    print('Total synthesized trips across all TAZ pairs:', '{:,}'.format(np.sum(countTable[:,3])))\n",
    "    print('Compare to tripTable total projected trips  :', '{:,}'.format(int(np.sum(tripTable))))\n",
    "    print('Seconds to synthesize trips:', '{:5.2f}'.format(time.time()-startTime))\n",
    "    print('\\nFilled countTable:')\n",
    "    print(countTable)\n",
    "    return countTable"
   ]
  },
  {
   "cell_type": "code",
   "execution_count": 606,
   "metadata": {
    "collapsed": true
   },
   "outputs": [],
   "source": [
    "def fillTripSet(countTable, tripSet, tazTable, secPerSlot, startEpoch): # superseded by fillNzPairTripSet\n",
    "    ''' Slice countTable and copy slices of individual trips to tripSet '''\n",
    "    print('\\nFilling tripSet ...'); startTime = time.time()\n",
    "    firstRow  = 0 # index of next available tripSet row for copy\n",
    "    threshold = 0 # threshold number of trips for picking from countTable\n",
    "    remainingTrips = countTable[:,3] > threshold # trips left to count\n",
    "    while np.any(remainingTrips): # while there are still trips to count\n",
    "        tripCount  = np.sum(countTable[remainingTrips,3]) # remaining trips\n",
    "        lastRow = firstRow + np.sum(remainingTrips)\n",
    "        tripSet.iloc[firstRow:lastRow,0] = countTable[remainingTrips,0].copy() # timeSlots\n",
    "        tripSet.iloc[firstRow:lastRow,1] = tazTable[countTable[remainingTrips,1],0].copy() # origLon\n",
    "        tripSet.iloc[firstRow:lastRow,2] = tazTable[countTable[remainingTrips,1],1].copy() # origLat\n",
    "        tripSet.iloc[firstRow:lastRow,3] = tazTable[countTable[remainingTrips,2],0].copy() # destLon\n",
    "        tripSet.iloc[firstRow:lastRow,4] = tazTable[countTable[remainingTrips,2],1].copy() # destLat\n",
    "        print('trip rows =', '{:,}'.format(np.sum(remainingTrips)), end='')\n",
    "        print(' with num trips =', '{:,}'.format(np.sum(countTable[remainingTrips,3])))\n",
    "        firstRow = lastRow\n",
    "        threshold += 1\n",
    "        remainingTrips = countTable[:,3] > threshold\n",
    "    tripSet = MonteCarloTime(tripSet, secPerSlot, startEpoch)\n",
    "    tripSet.sort_values('depart',  inplace=True) # sort tripSet by time\n",
    "    tripSet.reset_index(drop=True, inplace=True)\n",
    "    print('Seconds to fill tripSet:', '{:5.2f}'.format(time.time()-startTime))\n",
    "    print('\\n              - Completed tripSet -')\n",
    "    print(tripSet.head())\n",
    "    print('...')\n",
    "    print(tripSet.tail(), '\\n')\n",
    "    return tripSet"
   ]
  },
  {
   "cell_type": "markdown",
   "metadata": {},
   "source": [
    "<a id=\"section_sf\"></a>\n",
    "#### [&#8681;](#section_of)&nbsp;&nbsp;&nbsp;&nbsp;&nbsp; [&#8679;](#section_vf)&nbsp;&nbsp;&nbsp;&nbsp;&nbsp; [top](#section_top)\n",
    "## Non-Zero OD Pair Functions"
   ]
  },
  {
   "cell_type": "markdown",
   "metadata": {},
   "source": [
    "*Functions optimized for execution on sparse trip tables. Now used for all trip tables for highest performance.*"
   ]
  },
  {
   "cell_type": "markdown",
   "metadata": {},
   "source": [
    "<img src=\"img/non-zero_synth_space.png\" width=\"75%\">"
   ]
  },
  {
   "cell_type": "code",
   "execution_count": 607,
   "metadata": {
    "collapsed": true
   },
   "outputs": [],
   "source": [
    "def buildNzPairCountTable(tripTable, numTAZ, numSlots, intType, intBytes):\n",
    "    \n",
    "    ''' Allocate countTable as [timeSlot,orig,dest,count], where count\n",
    "        is the number of trips in that timeSlot from orig to dest.\n",
    "        Only alloacte space for non-zero counts, then fill in the first three columns.\n",
    "        The last column (count) will be filled in when trips are synthesized '''\n",
    "    print('sparse countTable RAM:')\n",
    "    print('sparse countTable maxInt:', 2**(8*intBytes-1) - 1)\n",
    "    countTableColumns = 4\n",
    "    nonZeroCount = np.sum     (tripTable > 0)\n",
    "    nzOdPair     = np.argwhere(tripTable > 0)\n",
    "    footprint = countTableColumns * numSlots * nonZeroCount * intBytes\n",
    "    print('number of orig/dest pairs with non-zero trip counts:', '{:,}'.format(nonZeroCount))\n",
    "    print('synthesized sparse countTable memory footprint in bytes:', '{:,}'.format(footprint))\n",
    "    print('\\nBuilding Sparse countTable ...'); startTime = time.time()\n",
    "    countTable = np.zeros((numSlots * nonZeroCount, countTableColumns), dtype=intType) # [timeSlot,orig,dest,count]    \n",
    "    countTable[:,0] = np.repeat(np.arange(numSlots), nonZeroCount) # timeSlot\n",
    "    countTable[:,1] = np.tile(nzOdPair[:,0], numSlots) # origin\n",
    "    countTable[:,2] = np.tile(nzOdPair[:,1], numSlots) # destination\n",
    "    print(countTable)\n",
    "    print('\\nTotal rows in countTable:', '{:,}'.format(countTable.shape[0]))\n",
    "    print('Total bytes used by countTable:', '{:,}'.format(intBytes * countTable.size))\n",
    "    print('Seconds to build countTable:', '{:5.2f}'.format(time.time()-startTime))\n",
    "    return countTable"
   ]
  },
  {
   "cell_type": "code",
   "execution_count": 608,
   "metadata": {
    "collapsed": true
   },
   "outputs": [],
   "source": [
    "def synthesizeNzPairTrips(tripTable, rateTable, profile, countTable):\n",
    "    ''' Synthesize all trips with profile rates across all time slots.\n",
    "        Synthesized trips are arranged by (timeSlot, nzOdPair)\n",
    "        and then raveled into one column in countTable[:,3].\n",
    "        Uses the same profile factors across all TAZ pairs '''\n",
    "    print('Synthesizing trips ...'); startTime = time.time()\n",
    "    nzOdPair  = np.argwhere(tripTable > 0)\n",
    "    rateTable = rateTable[nzOdPair[:,0], nzOdPair[:,1]]\n",
    "    # match array dimensions for elementwise multiplication\n",
    "    profile = profile[:,None]\n",
    "    print('profile.shape:', profile.shape)\n",
    "    rateTable = rateTable[None,:]\n",
    "    print('rateTable.shape:', rateTable.shape)\n",
    "    # synthesize trips by random draw from poisson distribution with given rates\n",
    "    trips = np.random.poisson(profile * rateTable)\n",
    "    print('poisson trips shape:', trips.shape)\n",
    "    countTable[:,3] = trips.ravel() # flattten trips by reference into countTable\n",
    "    print('Total synthesized trips across all TAZ pairs:', '{:,}'.format(np.sum(countTable[:,3])))\n",
    "    print('Compare to tripTable total projected trips  :', '{:,}'.format(int(np.sum(tripTable))))\n",
    "    print('Seconds to synthesize trips:', '{:5.2f}'.format(time.time()-startTime))\n",
    "    return countTable"
   ]
  },
  {
   "cell_type": "code",
   "execution_count": 609,
   "metadata": {
    "collapsed": true
   },
   "outputs": [],
   "source": [
    "def fillNzPairTripSet(countTable, tripSet, tazTable, secPerSlot, startEpoch):\n",
    "    ''' Slice countTable and copy slices of individual trips to tripSet '''\n",
    "    print('Filling tripSet ...'); startTime = time.time()\n",
    "    numTAZ = tazTable[:,0].size\n",
    "    print('numTAZ:', numTAZ)\n",
    "    firstRow  = 0 # index of next available tripSet row for copy\n",
    "    threshold = 0 # threshold number of trips for picking from countTable\n",
    "    remainingTrips = countTable[:,3] > threshold # trips left to count\n",
    "    while np.any(remainingTrips): # while there are still trips to count\n",
    "        tripCount  = np.sum(countTable[remainingTrips,3] - threshold) # remaining trips\n",
    "        lastRow = firstRow + np.sum(remainingTrips)\n",
    "        tripSet.iloc[firstRow:lastRow,0] = countTable[remainingTrips,0].copy() # timeSlots\n",
    "        tripSet.iloc[firstRow:lastRow,1] = tazTable[countTable[remainingTrips, 1],0].copy()# origLon\n",
    "        tripSet.iloc[firstRow:lastRow,2] = tazTable[countTable[remainingTrips,1],1].copy() # origLat\n",
    "        tripSet.iloc[firstRow:lastRow,3] = tazTable[countTable[remainingTrips,2],0].copy() # destLon\n",
    "        tripSet.iloc[firstRow:lastRow,4] = tazTable[countTable[remainingTrips,2],1].copy() # destLat\n",
    "        tripRows = np.sum(remainingTrips)\n",
    "        print('trip rows =', '{:,}'.format(tripRows), end='')\n",
    "        print(' with num trips =', '{:,}'.format(tripCount))\n",
    "        firstRow = lastRow\n",
    "        threshold += 1\n",
    "        remainingTrips = countTable[:,3] > threshold\n",
    "        #print('threshold', threshold, 'firstRow:',firstRow, 'tripRows', tripRows, 'tripCount', tripCount)\n",
    "    tripSet = MonteCarloTime(tripSet, secPerSlot, startEpoch)\n",
    "    tripSet.sort_values('depart',  inplace=True) # sort tripSet by time\n",
    "    tripSet.reset_index(drop=True, inplace=True)\n",
    "    print('Seconds to fill tripSet:', '{:5.2f}'.format(time.time()-startTime))\n",
    "    print('\\n              - Completed tripSet -')\n",
    "    print(tripSet.head())\n",
    "    print('...')\n",
    "    print(tripSet.tail(), '\\n')\n",
    "    return tripSet"
   ]
  },
  {
   "cell_type": "code",
   "execution_count": 610,
   "metadata": {
    "collapsed": true
   },
   "outputs": [],
   "source": [
    "def fillDiffusedTripSet(centroidGdf, tazAreaGdf, countTable, tripSet, \\\n",
    "                        tazTable, secPerSlot, startEpoch, diffusionFactor, normalDiffusion):\n",
    "    ''' Slice countTable and copy slices of individual trips to tripSet.\n",
    "        Spread origins and destinations randomly in each TAZ. '''\n",
    "    print('Filling tripSet ...'); startTime = time.time()\n",
    "    if normalDiffusion:\n",
    "        print('Diffusion is done with a Normal distribution.')\n",
    "    else:\n",
    "        print('Diffusion is done with a Uniform distribution.')\n",
    "    numTAZ = tazTable[:,0].size\n",
    "    print('numTAZ:', numTAZ)\n",
    "    firstRow  = 0 # index of next available tripSet row for copy\n",
    "    threshold = 0 # threshold number of trips for picking from countTable\n",
    "    remainingTrips = countTable[:,3] > threshold # trips left to count\n",
    "    centroidGdf, tazAreaGdf, centroidTable = diffusionPrep(centroidGdf, tazAreaGdf)\n",
    "    while np.any(remainingTrips): # while there are still trips to count\n",
    "        # ---------------- this is the main change from fillNzPairTripSet -----------------\n",
    "        if normalDiffusion: # normal diffusion\n",
    "            print()\n",
    "            diffusedOrigTazTable = diffuseLocationsNormal(centroidTable, centroidGdf, \\\n",
    "                                                tazAreaGdf, numTAZ, diffusionFactor) # new set of origins\n",
    "            print()\n",
    "            diffusedDestTazTable = diffuseLocationsNormal(centroidTable, centroidGdf, \\\n",
    "                                                tazAreaGdf, numTAZ, diffusionFactor) # new set of destinations\n",
    "            print()\n",
    "        else:              # uniform diffusion\n",
    "            print()\n",
    "            diffusedOrigTazTable = diffuseLocationsUniform(centroidTable, centroidGdf, \\\n",
    "                                                                 tazAreaGdf, numTAZ) # new set of origins\n",
    "            print()\n",
    "            diffusedDestTazTable = diffuseLocationsUniform(centroidTable, centroidGdf, \\\n",
    "                                                                 tazAreaGdf, numTAZ) # new set of destinations\n",
    "            print()\n",
    "        # ---------------------------------------------------------------------------------\n",
    "        tripCount  = np.sum(countTable[remainingTrips,3] - threshold) # remaining trips\n",
    "        lastRow = firstRow + np.sum(remainingTrips)\n",
    "        tripSet.iloc[firstRow:lastRow,0] = countTable[remainingTrips,0].copy() # timeSlots\n",
    "        tripSet.iloc[firstRow:lastRow,1] = diffusedOrigTazTable[countTable[remainingTrips, 1],0].copy()# origLon\n",
    "        tripSet.iloc[firstRow:lastRow,2] = diffusedOrigTazTable[countTable[remainingTrips,1],1].copy() # origLat\n",
    "        tripSet.iloc[firstRow:lastRow,3] = diffusedDestTazTable[countTable[remainingTrips,2],0].copy() # destLon\n",
    "        tripSet.iloc[firstRow:lastRow,4] = diffusedDestTazTable[countTable[remainingTrips,2],1].copy() # destLat\n",
    "        tripRows = np.sum(remainingTrips)\n",
    "        print('trip rows =', '{:,}'.format(tripRows), end='')\n",
    "        print(' with num trips =', '{:,}'.format(tripCount))\n",
    "        firstRow = lastRow\n",
    "        threshold += 1\n",
    "        remainingTrips = countTable[:,3] > threshold\n",
    "        #print('threshold', threshold, 'firstRow:',firstRow, 'tripRows', tripRows, 'tripCount', tripCount)\n",
    "    tripSet = MonteCarloTime(tripSet, secPerSlot, startEpoch)\n",
    "    tripSet.sort_values('depart',  inplace=True) # sort tripSet by time\n",
    "    tripSet.reset_index(drop=True, inplace=True)\n",
    "    diffusionRunTime = time.time()-startTime\n",
    "    print('Seconds to fill tripSet:', '{:5.2f}'.format(time.time()-startTime))\n",
    "    print('\\n              - Completed tripSet -')\n",
    "    print(tripSet.head())\n",
    "    print('...')\n",
    "    print(tripSet.tail(), '\\n')\n",
    "    return tripSet, diffusionRunTime"
   ]
  },
  {
   "cell_type": "code",
   "execution_count": 611,
   "metadata": {
    "collapsed": true
   },
   "outputs": [],
   "source": [
    "def diffuseLocationsNormal(centroidTable, centroidGdf, tazAreaGdf, numTAZ, diffusionFactor):\n",
    "    ''' Change origns and destinations from centroids to heterogeneous locations.\n",
    "    Consider non-centroid locations to be normally distributed about TAZ centroids,\n",
    "    but still within the TAZ area. Use TAZ size to estimate the standard deviation.'''    \n",
    "    # approximate TAZ areas as circles, then find radii\n",
    "    radius = np.sqrt(tazAreaGdf.geometry.area / np.pi) # r =sqrt(Area/pi), where Area of circle = TAZ area\n",
    "    radius = radius[:,None] # to match dimensions of other arrays below\n",
    "    indexNotInTaz = range(numTAZ) # begin with Python list of all indices as not in TAZ\n",
    "    diffusedTable = np.zeros((numTAZ, 2))\n",
    "    while len(indexNotInTaz) != 0:        \n",
    "        # set standard deviation to half of radius, find normal ditribution with 95% in area circle\n",
    "        i = indexNotInTaz\n",
    "        diffusedTable[i,0] = centroidTable[i,0] + np.random.normal(scale=radius[i,0]*diffusionFactor) # run random normal separately\n",
    "        diffusedTable[i,1] = centroidTable[i,1] + np.random.normal(scale=radius[i,0]*diffusionFactor) # for each coordinate series   \n",
    "        \n",
    "        # put diffused table into a GeoDataFrame to test against TAZ area GeoDataFrame\n",
    "        geometry = [geo.Point(xy) for xy in zip(diffusedTable[:,0], diffusedTable[:,1])]\n",
    "        df = pd.DataFrame(np.arange(numTAZ) + 1, columns=['TAZ']) # same TAZ numbers as centroidGdf\n",
    "        diffusedGdf = gpd.GeoDataFrame(df, geometry=geometry)\n",
    "        diffusedGdf.crs = {'init': utmZone}\n",
    "\n",
    "        # test if diffused points are inside TAZ\n",
    "        isInTaz = diffusedGdf.within(tazAreaGdf)\n",
    "        indexNotInTaz = np.argwhere(np.logical_not(isInTaz)).tolist()\n",
    "        print(np.sum(isInTaz), 'of', isInTaz.size, 'within TAZ')\n",
    "    \n",
    "    # put diffused points back in numpy table\n",
    "    diffusedGdf = diffusedGdf.to_crs({'init': 'epsg:4326'}) # back to lon/lat\n",
    "    diffusedTable[:,0] = diffusedGdf.geometry.map(lambda p: p.x)\n",
    "    diffusedTable[:,1] = diffusedGdf.geometry.map(lambda p: p.y)\n",
    "    return diffusedTable"
   ]
  },
  {
   "cell_type": "code",
   "execution_count": 612,
   "metadata": {
    "collapsed": true
   },
   "outputs": [],
   "source": [
    "def diffuseLocationsUniform(centroidTable, centroidGdf, tazAreaGdf, numTAZ):\n",
    "    ''' Change origns and destinations from centroids to heterogeneous locations.\n",
    "    Consider non-centroid locations to be uniformly distributed within TAZ areas '''\n",
    "    diffusedTable = np.zeros((numTAZ, 2))\n",
    "    indexNotInTaz = np.full((numTAZ), True) # begin with array indicating all indices not in TAZ\n",
    "    while np.any(indexNotInTaz):\n",
    "        i = indexNotInTaz\n",
    "        b = tazAreaGdf.bounds # a pandas DataFrame\n",
    "        # slice arrays so as to only draw random values on the indices required\n",
    "        diffusedTable[i,0] = np.random.uniform(b.minx[i], b.maxx[i]) # run random uniform separately\n",
    "        diffusedTable[i,1] = np.random.uniform(b.miny[i], b.maxy[i]) # for each coordinate series   \n",
    "        \n",
    "        # put diffused table into a GeoDataFrame to test against TAZ area GeoDataFrame\n",
    "        geometry = [geo.Point(xy) for xy in zip(diffusedTable[:,0], diffusedTable[:,1])]\n",
    "        df = pd.DataFrame(np.arange(numTAZ)+1, columns=['TAZ'])   # same TAZ numbers as centroidGdf\n",
    "        diffusedGdf = gpd.GeoDataFrame(df, geometry=geometry)\n",
    "        diffusedGdf.crs = {'init': utmZone}\n",
    "        \n",
    "        # test if diffused points are inside TAZ areas\n",
    "        isInTaz = diffusedGdf.within(tazAreaGdf)\n",
    "        \n",
    "        indexNotInTaz = np.logical_not(isInTaz)\n",
    "        print(np.sum(isInTaz), 'of', isInTaz.size, 'within TAZ')\n",
    "    # put diffused points back in numpy table\n",
    "    diffusedGdf = diffusedGdf.to_crs({'init': 'epsg:4326'})        # back to lon/lat\n",
    "    diffusedTable[:,0] = diffusedGdf.geometry.map(lambda p: p.x)\n",
    "    diffusedTable[:,1] = diffusedGdf.geometry.map(lambda p: p.y)\n",
    "    return diffusedTable"
   ]
  },
  {
   "cell_type": "code",
   "execution_count": 613,
   "metadata": {
    "collapsed": true
   },
   "outputs": [],
   "source": [
    "def diffusionPrep(centroidGdf, tazAreaGdf):\n",
    "    # convert from WGS84 (i.e. EPSG: 4326) to utmZone for meters\n",
    "    # first for centroid GeoDataFrame\n",
    "    centroidGdf.crs = {'init': 'epsg:4326'}\n",
    "    centroidGdf = centroidGdf.to_crs({'init': utmZone})\n",
    "    # and then for TAZ area GeoDataFrame\n",
    "    tazAreaGdf.crs = {'init': 'epsg:4326'}\n",
    "    tazAreaGdf = tazAreaGdf.to_crs({'init': utmZone})\n",
    "    # build centroid table from UTM meters in GeoDataFrame\n",
    "    centroidTable = np.zeros((numTAZ, 2))\n",
    "    centroidTable[:,0] = centroidGdf.geometry.map(lambda p: p.x)\n",
    "    centroidTable[:,1] = centroidGdf.geometry.map(lambda p: p.y)\n",
    "    # test if centroid points land inside assigned TAZ\n",
    "    isInTaz = centroidGdf.within(tazAreaGdf)\n",
    "    print('number of centroids that fall within their TAZ polygons:', np.sum(isInTaz), 'of', isInTaz.size)\n",
    "    if np.sum(isInTaz) != isInTaz.size:\n",
    "        centroidNotInTaz = np.argwhere(np.logical_not(isInTaz)) + 1 # to go from index to TAZ #\n",
    "        print('TAZ numbers where centroid is not within TAZ boundary:\\n', centroidNotInTaz)\n",
    "    return centroidGdf, tazAreaGdf, centroidTable"
   ]
  },
  {
   "cell_type": "markdown",
   "metadata": {
    "collapsed": true
   },
   "source": [
    "<a id=\"section_of\"></a>\n",
    "#### [&#8681;](#section_mef)&nbsp;&nbsp;&nbsp;&nbsp;&nbsp; [&#8679;](#section_sf)&nbsp;&nbsp;&nbsp;&nbsp;&nbsp; [top](#section_top)\n",
    "## Output Functions"
   ]
  },
  {
   "cell_type": "markdown",
   "metadata": {},
   "source": [
    "*Functions to display and save trip set.*"
   ]
  },
  {
   "cell_type": "code",
   "execution_count": 614,
   "metadata": {
    "collapsed": true
   },
   "outputs": [],
   "source": [
    "def showTimeOfDayExample(tripTable, countTable, numSlots, scaleFactor):\n",
    "    ''' Output synthesized trip results for orig/dest pair with max trips '''\n",
    "    nonZeroCount = np.sum(tripTable > 0)\n",
    "    tripSpace = np.reshape(countTable[:,3], (numSlots, nonZeroCount)) # a view\n",
    "    # find TAZ pair with max sum of synthesized trips\n",
    "    tripSums  = np.sum(tripSpace, axis=0) # trip sum of each synth trip pair over time\n",
    "    nzMaxPairIndex = tripSums.argmax()    # trip pair index with max sum\n",
    "    nzMaxPairValue = tripSums.max()\n",
    "    i0 = countTable[nzMaxPairIndex, 1]\n",
    "    i1 = countTable[nzMaxPairIndex, 2]\n",
    "    pairTrips = tripSpace[:,nzMaxPairIndex]\n",
    "    print()\n",
    "    print('                 - Example orig/dest trip count series -')\n",
    "    print('Synthesized trip counts for single TAZ pair [', i0+1, ',', i1+1, '] ingested profile:') # TAZ numbers\n",
    "    print(pairTrips)    # synth trip series for this example\n",
    "    print('\\ncountTable dtype:', countTable.dtype)\n",
    "    print('non-zero OD pair index:', nzMaxPairIndex)   \n",
    "    print(np.sum(pairTrips), 'trips synthesized,', int(scaleFactor * tripTable[i0,i1]), 'projected\\n')\n",
    "    # plot synthesized trips\n",
    "    plt.bar(np.arange(numSlots), pairTrips)\n",
    "    plt.title('Synthesized trips for single TAZ pair with ToD profile')\n",
    "    plt.xlabel('Time Slots')\n",
    "    plt.show()"
   ]
  },
  {
   "cell_type": "code",
   "execution_count": 615,
   "metadata": {
    "collapsed": true
   },
   "outputs": [],
   "source": [
    "def plotTimeOfDayProfile(profile, timeOfDayString):\n",
    "    print()\n",
    "    plt.plot(profile)\n",
    "    plt.xlabel('Time Slots')\n",
    "    plt.title('Profile Factor - ' + timeOfDayString)\n",
    "    plt.ylim(0)\n",
    "    plt.axhline(y=1, color='k')\n",
    "    plt.show()"
   ]
  },
  {
   "cell_type": "code",
   "execution_count": 616,
   "metadata": {
    "collapsed": true
   },
   "outputs": [],
   "source": [
    "def plotTazOrigins(tazToPlot, centroidGdf, tazAreaGdf, originGdf):\n",
    "    ''' plot diffused origins - plots an example TAZ with its centroid and diffused origins '''\n",
    "    startTime = time.time()\n",
    "    if tazToPlot < 1 or tazToPlot > tazAreaGdf.TAZ.size:\n",
    "        print('TAZ number chosen to plot is not valid.')\n",
    "        return\n",
    "    tazIndex = tazToPlot - 1 # TAZ numbers start with 1, indices start with 0\n",
    "    tazOrigins = np.sum(tripTable, axis=1) # sums initial origins for each TAZ\n",
    "    print('Chosen tazToPlot', tazToPlot, 'has', tazOrigins[tazIndex], 'pre-scaled origins')\n",
    "    if tazOrigins[tazIndex] == 0:\n",
    "        tazIndex = np.argmax(tazOrigins)\n",
    "        print('Selected TAZ had zero origins, selecting new TAZ.')\n",
    "        tazToPlot = tazIndex + 1   \n",
    "    # ensure all GeoDataFrames use the same coordinate reference system (crs)\n",
    "    tazAreaGdf  = tazAreaGdf.to_crs({'init': 'epsg:4326'})   # to lon/lat\n",
    "    centroidGdf = centroidGdf.to_crs({'init': 'epsg:4326'})  # to lon/lat\n",
    "    originGdf   = originGdf.to_crs({'init': 'epsg:4326'})    # to lon/lat\n",
    "\n",
    "    # identify tripset origins inside this TAZ\n",
    "    isInTaz = originGdf.within(tazAreaGdf.iloc[[tazIndex]])    \n",
    "    pointsInTaz = originGdf.loc[isInTaz]    \n",
    "    \n",
    "    print('TAZ chosen to plot:', tazToPlot)\n",
    "    print('This TAZ has', np.sum(isInTaz), 'origin(s)')\n",
    "    # plot\n",
    "    base = tazAreaGdf.iloc[[tazIndex]].plot(color='white', edgecolor='black')                    # TAZ border\n",
    "    if np.sum(isInTaz) > 0:\n",
    "        orgPoints = pointsInTaz.geometry.plot(ax=base, marker='o', color='blue', markersize=5)   # origins\n",
    "        centroidGdf.iloc[[tazIndex]].plot(ax=orgPoints, marker='o', color='red', markersize=10); # centroid on top\n",
    "    else:\n",
    "        centroidGdf.iloc[[tazIndex]].plot(ax=base, marker='o', color='red', markersize=10);      # just centroid\n",
    "    plt.show()\n",
    "    print('Seconds to read tripSet file and plot all origins in this TAZ:', '{:5.2f}'.format(time.time()-startTime))"
   ]
  },
  {
   "cell_type": "code",
   "execution_count": 617,
   "metadata": {
    "collapsed": true
   },
   "outputs": [],
   "source": [
    "def saveTripSet(tripSet, tripSetDir, tripSetFileName):\n",
    "    print('Saving ...'); startTime = time.time()\n",
    "    print(tripSetFileName)\n",
    "    print('Total trips in trip set:', '{:,}'.format(tripSet.shape[0]))\n",
    "    filePath = os.path.join(tripSetDir, tripSetFileName)\n",
    "    tripSet.to_csv(filePath, index=False)\n",
    "    print('Seconds to save tripSet:', '{:5.2f}'.format(time.time()-startTime))"
   ]
  },
  {
   "cell_type": "code",
   "execution_count": 618,
   "metadata": {
    "collapsed": true
   },
   "outputs": [],
   "source": [
    "def readBackTripset(tripSetDir, tripSetFileName):\n",
    "    # load tripset file to build tripSet origin GeoDataFrame\n",
    "    filePath = os.path.join(tripSetDir, tripSetFileName)\n",
    "    tripSetDf = pd.read_csv(filePath)\n",
    "    print('\\nTripset file as read back from storage')\n",
    "    print(tripSetDf.head())    \n",
    "    # convert origins to GeoDataFrame\n",
    "    geometry = [geo.Point(xy) for xy in zip(tripSetDf.origLon, tripSetDf.origLat)]\n",
    "    crs = {'init': 'epsg:4326'} # http://www.spatialreference.org/ref/epsg/4326/\n",
    "    originGdf = gpd.GeoDataFrame(tripSetDf, crs=crs, geometry=geometry)\n",
    "    originGdf = originGdf[['geometry']] # trim table\n",
    "    print('\\nTripset origin geometry from GeoDataFrame')\n",
    "    print(originGdf.head())\n",
    "    # convert destinations to GeoDataFrame\n",
    "    geometry = [geo.Point(xy) for xy in zip(tripSetDf.destLon, tripSetDf.destLat)]\n",
    "    crs = {'init': 'epsg:4326'} # http://www.spatialreference.org/ref/epsg/4326/\n",
    "    destinationGdf = gpd.GeoDataFrame(tripSetDf, crs=crs, geometry=geometry)\n",
    "    destinationGdf = destinationGdf[['geometry']] # trim table\n",
    "    print('\\nTripset destination geometry from GeoDataFrame')\n",
    "    print(destinationGdf.head())\n",
    "    return originGdf, destinationGdf"
   ]
  },
  {
   "cell_type": "code",
   "execution_count": 619,
   "metadata": {
    "collapsed": true
   },
   "outputs": [],
   "source": [
    "def saveToShapeFile(tazAreaGdf, centroidGdf, originGdf, destinationGdf, shapeFileDir):\n",
    "    ''' save shape files for TAZ boundaries, centroids and diffused origins '''\n",
    "    print('\\nSaving shape files ...'); startTime = time.time()\n",
    "    filePath = os.path.join(shapeFileDir, 'taz_boundaries.shp')\n",
    "    tazAreaGdf.to_file(driver='ESRI Shapefile', filename=filePath)\n",
    "    print('TAZ boundaries')\n",
    "    filePath = os.path.join(shapeFileDir, 'centroids.shp')\n",
    "    centroidGdf.to_file(driver='ESRI Shapefile', filename=filePath)\n",
    "    print('TAZ centroids')\n",
    "    filePath = os.path.join(shapeFileDir, 'origins.shp')\n",
    "    originGdf.to_file(driver='ESRI Shapefile', filename=filePath)\n",
    "    print('Diffused origins')\n",
    "    filePath = os.path.join(shapeFileDir, 'destinations.shp')\n",
    "    destinationGdf.to_file(driver='ESRI Shapefile', filename=filePath)\n",
    "    print('Diffused destinations')\n",
    "    print('Seconds to save shape files:', '{:5.2f}'.format(time.time()-startTime))"
   ]
  },
  {
   "cell_type": "markdown",
   "metadata": {},
   "source": [
    "<a id=\"section_mef\"></a>\n",
    "#### [&#8681;](#section_end)&nbsp;&nbsp;&nbsp;&nbsp;&nbsp; [&#8679;](#section_of)&nbsp;&nbsp;&nbsp;&nbsp;&nbsp; [top](#section_top)\n",
    "## Main Execution Flow"
   ]
  },
  {
   "cell_type": "code",
   "execution_count": 620,
   "metadata": {},
   "outputs": [
    {
     "name": "stdout",
     "output_type": "stream",
     "text": [
      "trip table matrix file path: austin/Austin_trips_off_peak.csv\n",
      "\n",
      "Loaded tripTable with specified trip counts (2100 X 2100):\n",
      "[[0 0 0 ..., 0 0 0]\n",
      " [0 0 2 ..., 0 0 0]\n",
      " [0 0 0 ..., 0 0 0]\n",
      " ..., \n",
      " [0 0 0 ..., 0 0 0]\n",
      " [0 0 0 ..., 0 0 0]\n",
      " [0 0 0 ..., 0 0 0]]\n",
      "\n",
      "tripTable dtype: int64\n",
      "Total TAZ pairs: 4,410,000\n",
      "time of day period: allDay\n",
      "Non-zero elements : 0.28 %\n",
      "Total trips in tripTable: 17,335\n"
     ]
    }
   ],
   "source": [
    "''' trip table - a square matrix of expected trip counts by origin/destination pairs '''\n",
    "mainTime = time.time() # begining time for main execution flow\n",
    "if testRandom:\n",
    "    tripTable, numTAZ = createRandomTripTable(numTAZ, tripStdDev)\n",
    "else:\n",
    "    tripTable, numTAZ = loadTripTable(fileDir, tripTableFile, timeOfDayString, offPeakAM, offPeakPM)"
   ]
  },
  {
   "cell_type": "code",
   "execution_count": 621,
   "metadata": {},
   "outputs": [
    {
     "name": "stdout",
     "output_type": "stream",
     "text": [
      "Traffic profile file path: austin/Seattle_traffic_profile.csv\n",
      "\n",
      "Loaded day profile size: 1440\n",
      "[ 0.054  0.057  0.06   0.063  0.066  0.069  0.072  0.075]\n",
      "\n",
      "Time of day profile: 1440\n",
      "[ 0.054  0.057  0.06   0.063  0.066  0.069  0.072  0.075]\n",
      "\n",
      "profile dtype: float64\n"
     ]
    }
   ],
   "source": [
    "''' profile - an array of ratios used to add shape to trip counts over the time of day period '''\n",
    "if testRandom:\n",
    "    profile, numSlots = createParabolicProfile(numSlots, aParabolic, hParabolic)\n",
    "else:\n",
    "    profile, numSlots, dayProfile = loadDayProfile(fileDir, dailyProfileFile, dayOfWeek, timeOfDay, secPerSlot)"
   ]
  },
  {
   "cell_type": "code",
   "execution_count": 622,
   "metadata": {},
   "outputs": [
    {
     "name": "stdout",
     "output_type": "stream",
     "text": [
      "numTAZ: 2100\n",
      "\n",
      "    TAZ                              geometry\n",
      "0    1  POINT (-97.86268800000001 30.549532)\n",
      "1    2  POINT (-97.87419300000001 30.603521)\n",
      "2    3           POINT (-97.842743 30.53775)\n",
      "3    4  POINT (-97.96919699999999 30.581778)\n",
      "4    5          POINT (-97.901236 30.496606)\n",
      "\n",
      "    TAZ       AREA                                           geometry\n",
      "0    1   1.056940  POLYGON ((-97.85549 30.551639, -97.85562400000...\n",
      "1    2   2.139539  POLYGON ((-97.88328799999999 30.59389, -97.883...\n",
      "2    3   0.532426  POLYGON ((-97.840354 30.544642, -97.8402920000...\n",
      "3    4  33.128796  POLYGON ((-97.95361 30.537526, -97.953715 30.5...\n",
      "4    5   7.544750  POLYGON ((-97.911039 30.468263, -97.911833 30....\n",
      "\n",
      "TAZ lon/lat table shape: (2100, 2)  \n",
      "[[-97.863  30.55 ]\n",
      " [-97.874  30.604]\n",
      " [-97.843  30.538]\n",
      " [-97.969  30.582]\n",
      " [-97.901  30.497]]\n"
     ]
    }
   ],
   "source": [
    "''' TAZ table - an array of longitude and latitude of transportation analysis zone (TAZ) centroids '''\n",
    "if testRandom:\n",
    "    tazTable = createRandomTazTable(numTAZ, minLon, maxLon, minLat, maxLat)\n",
    "else:\n",
    "    tazTable, centroidGdf, tazAreaGdf = loadCentroidTazTable(numTAZ, tazDir, centroidFile, tazAreaFile)"
   ]
  },
  {
   "cell_type": "code",
   "execution_count": 623,
   "metadata": {},
   "outputs": [
    {
     "name": "stdout",
     "output_type": "stream",
     "text": [
      "Calculated rateTable of trip rates per time slot:\n",
      "\n",
      "[[ 0.     0.     0.    ...,  0.     0.     0.   ]\n",
      " [ 0.     0.     0.001 ...,  0.     0.     0.   ]\n",
      " [ 0.     0.     0.    ...,  0.     0.     0.   ]\n",
      " ..., \n",
      " [ 0.     0.     0.    ...,  0.     0.     0.   ]\n",
      " [ 0.     0.     0.    ...,  0.     0.     0.   ]\n",
      " [ 0.     0.     0.    ...,  0.     0.     0.   ]]\n",
      "\n",
      "rateTable dtype: float64\n",
      "Number of TAZ zones : 2100\n",
      "Number of time slots: 1440\n"
     ]
    }
   ],
   "source": [
    "''' rate table - simply the trip table divided evenly over the time slots '''\n",
    "rateTable = calculateRateTable(tripTable, numSlots)"
   ]
  },
  {
   "cell_type": "code",
   "execution_count": 624,
   "metadata": {},
   "outputs": [
    {
     "name": "stdout",
     "output_type": "stream",
     "text": [
      "Assumes day profile has 1440 one minute time slots.\n",
      "This daylong profile size is: 1440\n",
      "timeOfDayString: allDay (0, 1440)\n",
      "portion of daily trip target for this time of day period : 100.00 %\n",
      "total trips in the trip table for this time of day period: 17,335\n",
      "target total trips for day: 3,820,000\n",
      "trip table matrix file path: austin/Austin_trips_morning.csv\n",
      "trip table matrix file path: austin/Austin_trips_midday.csv\n",
      "trip table matrix file path: austin/Austin_trips_evening.csv\n",
      "trip table matrix file path: austin/Austin_trips_off_peak.csv\n",
      "Total trips across all trip tables: 101,301\n"
     ]
    }
   ],
   "source": [
    "''' scaling - trip rates scaled proportionally to target trips per day over the daily profile '''\n",
    "scaleFactor = 1\n",
    "if not testRandom:\n",
    "    scaleFactor = getScaleFactor(rateTable, tripTable, dayProfile, totalTripsInDay, timeOfDayList, timeOfDayString)\n",
    "    rateTable  *= scaleFactor"
   ]
  },
  {
   "cell_type": "code",
   "execution_count": 625,
   "metadata": {},
   "outputs": [
    {
     "name": "stdout",
     "output_type": "stream",
     "text": [
      "sparse countTable RAM:\n",
      "sparse countTable maxInt: 32767\n",
      "number of orig/dest pairs with non-zero trip counts: 12,140\n",
      "synthesized sparse countTable memory footprint in bytes: 139,852,800\n",
      "\n",
      "Building Sparse countTable ...\n",
      "[[   0    0 1414    0]\n",
      " [   0    1    2    0]\n",
      " [   0    1  152    0]\n",
      " ..., \n",
      " [1439 2093  850    0]\n",
      " [1439 2094 1663    0]\n",
      " [1439 2097  850    0]]\n",
      "\n",
      "Total rows in countTable: 17,481,600\n",
      "Total bytes used by countTable: 139,852,800\n",
      "Seconds to build countTable:  0.36\n"
     ]
    }
   ],
   "source": [
    "''' count table - memory space for synthesized trip counts by origin/destination pairs '''\n",
    "countTable = buildNzPairCountTable(tripTable, numTAZ, numSlots, intType, intBytes)"
   ]
  },
  {
   "cell_type": "code",
   "execution_count": 626,
   "metadata": {},
   "outputs": [
    {
     "name": "stdout",
     "output_type": "stream",
     "text": [
      "Synthesizing trips ...\n",
      "profile.shape: (1440, 1)\n",
      "rateTable.shape: (1, 12140)\n",
      "poisson trips shape: (1440, 12140)\n",
      "Total synthesized trips across all TAZ pairs: 3,821,719\n",
      "Compare to tripTable total projected trips  : 17,335\n",
      "Seconds to synthesize trips:  0.70\n"
     ]
    }
   ],
   "source": [
    "''' trip synthesis - synthesize trips by random Poisson draw '''\n",
    "countTable = synthesizeNzPairTrips(tripTable, rateTable, profile, countTable)"
   ]
  },
  {
   "cell_type": "code",
   "execution_count": 627,
   "metadata": {},
   "outputs": [
    {
     "name": "stdout",
     "output_type": "stream",
     "text": [
      "Building tripSet ...\n",
      "tripSet shape: (3821719, 5)\n",
      "tripSet depart series dtype: int32\n",
      "tripSet lon/lat series dtype: float32\n",
      "tripSet memory footprint in bytes: 76,434,380\n",
      "Seconds to build tripSet:  0.10\n"
     ]
    }
   ],
   "source": [
    "''' trip set memory - memory space for individual trips by departure time, origin and destination '''\n",
    "tripSet = buildTripSet(countTable, secPerSlot)"
   ]
  },
  {
   "cell_type": "code",
   "execution_count": 628,
   "metadata": {},
   "outputs": [
    {
     "name": "stdout",
     "output_type": "stream",
     "text": [
      "Filling tripSet ...\n",
      "Distribution used is Uniform.\n",
      "numTAZ: 2100\n",
      "number of centroids that fall within their TAZ polygons: 2098 of 2100\n",
      "TAZ numbers where centroid is not within TAZ boundary:\n",
      " [[ 697]\n",
      " [1326]]\n",
      "\n",
      "1129 of 2100 within TAZ\n",
      "1655 of 2100 within TAZ\n",
      "1877 of 2100 within TAZ\n",
      "1971 of 2100 within TAZ\n",
      "2037 of 2100 within TAZ\n",
      "2068 of 2100 within TAZ\n",
      "2083 of 2100 within TAZ\n",
      "2095 of 2100 within TAZ\n",
      "2098 of 2100 within TAZ\n",
      "2100 of 2100 within TAZ\n",
      "\n",
      "1176 of 2100 within TAZ\n",
      "1672 of 2100 within TAZ\n",
      "1894 of 2100 within TAZ\n",
      "1980 of 2100 within TAZ\n",
      "2039 of 2100 within TAZ\n",
      "2067 of 2100 within TAZ\n",
      "2085 of 2100 within TAZ\n",
      "2090 of 2100 within TAZ\n",
      "2095 of 2100 within TAZ\n",
      "2097 of 2100 within TAZ\n",
      "2097 of 2100 within TAZ\n",
      "2097 of 2100 within TAZ\n",
      "2097 of 2100 within TAZ\n",
      "2098 of 2100 within TAZ\n",
      "2098 of 2100 within TAZ\n",
      "2098 of 2100 within TAZ\n",
      "2098 of 2100 within TAZ\n",
      "2099 of 2100 within TAZ\n",
      "2099 of 2100 within TAZ\n",
      "2100 of 2100 within TAZ\n",
      "\n",
      "trip rows = 3,167,826 with num trips = 3,821,719\n",
      "\n",
      "1160 of 2100 within TAZ\n",
      "1646 of 2100 within TAZ\n",
      "1874 of 2100 within TAZ\n",
      "1986 of 2100 within TAZ\n",
      "2034 of 2100 within TAZ\n",
      "2062 of 2100 within TAZ\n",
      "2077 of 2100 within TAZ\n",
      "2084 of 2100 within TAZ\n",
      "2089 of 2100 within TAZ\n",
      "2092 of 2100 within TAZ\n",
      "2092 of 2100 within TAZ\n",
      "2096 of 2100 within TAZ\n",
      "2099 of 2100 within TAZ\n",
      "2099 of 2100 within TAZ\n",
      "2100 of 2100 within TAZ\n",
      "\n",
      "1140 of 2100 within TAZ\n",
      "1621 of 2100 within TAZ\n",
      "1857 of 2100 within TAZ\n",
      "1970 of 2100 within TAZ\n",
      "2021 of 2100 within TAZ\n",
      "2053 of 2100 within TAZ\n",
      "2070 of 2100 within TAZ\n",
      "2080 of 2100 within TAZ\n",
      "2085 of 2100 within TAZ\n",
      "2088 of 2100 within TAZ\n",
      "2094 of 2100 within TAZ\n",
      "2095 of 2100 within TAZ\n",
      "2097 of 2100 within TAZ\n",
      "2099 of 2100 within TAZ\n",
      "2099 of 2100 within TAZ\n",
      "2100 of 2100 within TAZ\n",
      "\n",
      "trip rows = 543,680 with num trips = 653,893\n",
      "\n",
      "1162 of 2100 within TAZ\n",
      "1658 of 2100 within TAZ\n",
      "1863 of 2100 within TAZ\n",
      "1977 of 2100 within TAZ\n",
      "2036 of 2100 within TAZ\n",
      "2068 of 2100 within TAZ\n",
      "2080 of 2100 within TAZ\n",
      "2092 of 2100 within TAZ\n",
      "2093 of 2100 within TAZ\n",
      "2094 of 2100 within TAZ\n",
      "2097 of 2100 within TAZ\n",
      "2097 of 2100 within TAZ\n",
      "2098 of 2100 within TAZ\n",
      "2100 of 2100 within TAZ\n",
      "\n",
      "1165 of 2100 within TAZ\n",
      "1662 of 2100 within TAZ\n",
      "1887 of 2100 within TAZ\n",
      "1988 of 2100 within TAZ\n",
      "2043 of 2100 within TAZ\n",
      "2076 of 2100 within TAZ\n",
      "2084 of 2100 within TAZ\n",
      "2096 of 2100 within TAZ\n",
      "2096 of 2100 within TAZ\n",
      "2099 of 2100 within TAZ\n",
      "2099 of 2100 within TAZ\n",
      "2099 of 2100 within TAZ\n",
      "2099 of 2100 within TAZ\n",
      "2100 of 2100 within TAZ\n",
      "\n",
      "trip rows = 90,739 with num trips = 110,213\n",
      "\n",
      "1142 of 2100 within TAZ\n",
      "1639 of 2100 within TAZ\n",
      "1859 of 2100 within TAZ\n",
      "1968 of 2100 within TAZ\n",
      "2031 of 2100 within TAZ\n",
      "2065 of 2100 within TAZ\n",
      "2078 of 2100 within TAZ\n",
      "2082 of 2100 within TAZ\n",
      "2088 of 2100 within TAZ\n",
      "2091 of 2100 within TAZ\n",
      "2096 of 2100 within TAZ\n",
      "2098 of 2100 within TAZ\n",
      "2098 of 2100 within TAZ\n",
      "2100 of 2100 within TAZ\n",
      "\n",
      "1154 of 2100 within TAZ\n",
      "1633 of 2100 within TAZ\n",
      "1883 of 2100 within TAZ\n",
      "1976 of 2100 within TAZ\n",
      "2026 of 2100 within TAZ\n",
      "2054 of 2100 within TAZ\n",
      "2074 of 2100 within TAZ\n",
      "2082 of 2100 within TAZ\n",
      "2092 of 2100 within TAZ\n",
      "2095 of 2100 within TAZ\n",
      "2097 of 2100 within TAZ\n",
      "2097 of 2100 within TAZ\n",
      "2097 of 2100 within TAZ\n",
      "2098 of 2100 within TAZ\n",
      "2098 of 2100 within TAZ\n",
      "2099 of 2100 within TAZ\n",
      "2099 of 2100 within TAZ\n",
      "2099 of 2100 within TAZ\n",
      "2099 of 2100 within TAZ\n",
      "2099 of 2100 within TAZ\n",
      "2100 of 2100 within TAZ\n",
      "\n",
      "trip rows = 15,793 with num trips = 19,474\n",
      "\n",
      "1131 of 2100 within TAZ\n",
      "1625 of 2100 within TAZ\n",
      "1872 of 2100 within TAZ\n",
      "1977 of 2100 within TAZ\n",
      "2042 of 2100 within TAZ\n",
      "2070 of 2100 within TAZ\n",
      "2083 of 2100 within TAZ\n",
      "2088 of 2100 within TAZ\n",
      "2092 of 2100 within TAZ\n",
      "2093 of 2100 within TAZ\n",
      "2098 of 2100 within TAZ\n",
      "2099 of 2100 within TAZ\n",
      "2099 of 2100 within TAZ\n",
      "2099 of 2100 within TAZ\n",
      "2099 of 2100 within TAZ\n",
      "2099 of 2100 within TAZ\n",
      "2099 of 2100 within TAZ\n",
      "2099 of 2100 within TAZ\n",
      "2099 of 2100 within TAZ\n",
      "2099 of 2100 within TAZ\n",
      "2099 of 2100 within TAZ\n",
      "2100 of 2100 within TAZ\n",
      "\n",
      "1102 of 2100 within TAZ\n",
      "1595 of 2100 within TAZ\n",
      "1831 of 2100 within TAZ\n",
      "1952 of 2100 within TAZ\n",
      "2014 of 2100 within TAZ\n",
      "2060 of 2100 within TAZ\n",
      "2076 of 2100 within TAZ\n",
      "2086 of 2100 within TAZ\n",
      "2090 of 2100 within TAZ\n",
      "2093 of 2100 within TAZ\n",
      "2095 of 2100 within TAZ\n",
      "2096 of 2100 within TAZ\n",
      "2097 of 2100 within TAZ\n",
      "2098 of 2100 within TAZ\n",
      "2100 of 2100 within TAZ\n",
      "\n",
      "trip rows = 2,895 with num trips = 3,681\n",
      "\n",
      "1121 of 2100 within TAZ\n",
      "1623 of 2100 within TAZ\n",
      "1857 of 2100 within TAZ\n",
      "1986 of 2100 within TAZ\n",
      "2044 of 2100 within TAZ\n",
      "2072 of 2100 within TAZ\n",
      "2087 of 2100 within TAZ\n",
      "2095 of 2100 within TAZ\n",
      "2096 of 2100 within TAZ\n",
      "2098 of 2100 within TAZ\n",
      "2099 of 2100 within TAZ\n",
      "2099 of 2100 within TAZ\n",
      "2099 of 2100 within TAZ\n",
      "2099 of 2100 within TAZ\n",
      "2099 of 2100 within TAZ\n",
      "2099 of 2100 within TAZ\n",
      "2100 of 2100 within TAZ\n",
      "\n",
      "1117 of 2100 within TAZ\n",
      "1615 of 2100 within TAZ\n",
      "1847 of 2100 within TAZ\n",
      "1974 of 2100 within TAZ\n",
      "2041 of 2100 within TAZ\n",
      "2068 of 2100 within TAZ\n",
      "2083 of 2100 within TAZ\n",
      "2088 of 2100 within TAZ\n",
      "2095 of 2100 within TAZ\n",
      "2095 of 2100 within TAZ\n",
      "2096 of 2100 within TAZ\n",
      "2098 of 2100 within TAZ\n",
      "2099 of 2100 within TAZ\n",
      "2099 of 2100 within TAZ\n",
      "2099 of 2100 within TAZ\n",
      "2099 of 2100 within TAZ\n",
      "2099 of 2100 within TAZ\n",
      "2099 of 2100 within TAZ\n",
      "2099 of 2100 within TAZ\n",
      "2100 of 2100 within TAZ\n",
      "\n",
      "trip rows = 580 with num trips = 786\n",
      "\n",
      "1154 of 2100 within TAZ\n",
      "1635 of 2100 within TAZ\n",
      "1868 of 2100 within TAZ\n",
      "1984 of 2100 within TAZ\n",
      "2039 of 2100 within TAZ\n",
      "2064 of 2100 within TAZ\n",
      "2085 of 2100 within TAZ\n",
      "2086 of 2100 within TAZ\n",
      "2089 of 2100 within TAZ\n",
      "2095 of 2100 within TAZ\n",
      "2095 of 2100 within TAZ\n",
      "2100 of 2100 within TAZ\n",
      "\n",
      "1158 of 2100 within TAZ\n",
      "1637 of 2100 within TAZ\n",
      "1870 of 2100 within TAZ\n",
      "1974 of 2100 within TAZ\n",
      "2021 of 2100 within TAZ\n",
      "2051 of 2100 within TAZ\n",
      "2070 of 2100 within TAZ\n",
      "2079 of 2100 within TAZ\n",
      "2086 of 2100 within TAZ\n",
      "2092 of 2100 within TAZ\n",
      "2096 of 2100 within TAZ\n",
      "2096 of 2100 within TAZ\n",
      "2096 of 2100 within TAZ\n",
      "2096 of 2100 within TAZ\n",
      "2096 of 2100 within TAZ\n",
      "2097 of 2100 within TAZ\n",
      "2098 of 2100 within TAZ\n",
      "2100 of 2100 within TAZ\n",
      "\n",
      "trip rows = 135 with num trips = 206\n",
      "\n",
      "1113 of 2100 within TAZ\n",
      "1626 of 2100 within TAZ\n",
      "1850 of 2100 within TAZ\n",
      "1972 of 2100 within TAZ\n",
      "2031 of 2100 within TAZ\n",
      "2057 of 2100 within TAZ\n",
      "2068 of 2100 within TAZ\n",
      "2079 of 2100 within TAZ\n",
      "2083 of 2100 within TAZ\n",
      "2093 of 2100 within TAZ\n",
      "2097 of 2100 within TAZ\n",
      "2097 of 2100 within TAZ\n",
      "2098 of 2100 within TAZ\n",
      "2099 of 2100 within TAZ\n",
      "2100 of 2100 within TAZ\n",
      "\n",
      "1151 of 2100 within TAZ\n",
      "1624 of 2100 within TAZ\n",
      "1848 of 2100 within TAZ\n",
      "1961 of 2100 within TAZ\n",
      "2022 of 2100 within TAZ\n",
      "2062 of 2100 within TAZ\n",
      "2079 of 2100 within TAZ\n",
      "2087 of 2100 within TAZ\n",
      "2095 of 2100 within TAZ\n",
      "2096 of 2100 within TAZ\n",
      "2096 of 2100 within TAZ\n",
      "2098 of 2100 within TAZ\n",
      "2100 of 2100 within TAZ\n",
      "\n",
      "trip rows = 47 with num trips = 71\n",
      "\n",
      "1120 of 2100 within TAZ\n",
      "1607 of 2100 within TAZ\n",
      "1842 of 2100 within TAZ\n",
      "1969 of 2100 within TAZ\n",
      "2026 of 2100 within TAZ\n",
      "2063 of 2100 within TAZ\n",
      "2083 of 2100 within TAZ\n",
      "2093 of 2100 within TAZ\n",
      "2094 of 2100 within TAZ\n",
      "2094 of 2100 within TAZ\n",
      "2096 of 2100 within TAZ\n",
      "2099 of 2100 within TAZ\n",
      "2100 of 2100 within TAZ\n",
      "\n",
      "1177 of 2100 within TAZ\n",
      "1680 of 2100 within TAZ\n",
      "1893 of 2100 within TAZ\n",
      "1984 of 2100 within TAZ\n",
      "2038 of 2100 within TAZ\n",
      "2065 of 2100 within TAZ\n",
      "2081 of 2100 within TAZ\n",
      "2088 of 2100 within TAZ\n",
      "2091 of 2100 within TAZ\n",
      "2096 of 2100 within TAZ\n",
      "2098 of 2100 within TAZ\n",
      "2098 of 2100 within TAZ\n",
      "2098 of 2100 within TAZ\n",
      "2098 of 2100 within TAZ\n",
      "2099 of 2100 within TAZ\n",
      "2099 of 2100 within TAZ\n",
      "2099 of 2100 within TAZ\n",
      "2099 of 2100 within TAZ\n",
      "2099 of 2100 within TAZ\n",
      "2100 of 2100 within TAZ\n",
      "\n",
      "trip rows = 18 with num trips = 24\n",
      "\n",
      "1139 of 2100 within TAZ\n",
      "1625 of 2100 within TAZ\n",
      "1854 of 2100 within TAZ\n",
      "1975 of 2100 within TAZ\n",
      "2039 of 2100 within TAZ\n",
      "2069 of 2100 within TAZ\n",
      "2087 of 2100 within TAZ\n",
      "2094 of 2100 within TAZ\n",
      "2098 of 2100 within TAZ\n",
      "2098 of 2100 within TAZ\n",
      "2098 of 2100 within TAZ\n",
      "2099 of 2100 within TAZ\n",
      "2099 of 2100 within TAZ\n",
      "2099 of 2100 within TAZ\n",
      "2099 of 2100 within TAZ\n",
      "2099 of 2100 within TAZ\n",
      "2099 of 2100 within TAZ\n",
      "2099 of 2100 within TAZ\n",
      "2100 of 2100 within TAZ\n",
      "\n",
      "1104 of 2100 within TAZ\n",
      "1598 of 2100 within TAZ\n",
      "1864 of 2100 within TAZ\n",
      "1970 of 2100 within TAZ\n",
      "2026 of 2100 within TAZ\n",
      "2063 of 2100 within TAZ\n",
      "2071 of 2100 within TAZ\n",
      "2082 of 2100 within TAZ\n",
      "2087 of 2100 within TAZ\n"
     ]
    },
    {
     "name": "stdout",
     "output_type": "stream",
     "text": [
      "2093 of 2100 within TAZ\n",
      "2094 of 2100 within TAZ\n",
      "2097 of 2100 within TAZ\n",
      "2097 of 2100 within TAZ\n",
      "2099 of 2100 within TAZ\n",
      "2099 of 2100 within TAZ\n",
      "2099 of 2100 within TAZ\n",
      "2099 of 2100 within TAZ\n",
      "2099 of 2100 within TAZ\n",
      "2099 of 2100 within TAZ\n",
      "2099 of 2100 within TAZ\n",
      "2100 of 2100 within TAZ\n",
      "\n",
      "trip rows = 6 with num trips = 6\n",
      "Seconds to fill tripSet: 111.85\n",
      "\n",
      "              - Completed tripSet -\n",
      "   depart    origLon    origLat    destLon    destLat\n",
      "0  540000 -97.759239  30.231775 -97.689552  30.126726\n",
      "1  540001 -97.740128  30.265957 -97.839958  30.217924\n",
      "2  540002 -97.742821  30.504797 -98.121582  30.384962\n",
      "3  540002 -97.861328  30.109459 -97.682442  30.320730\n",
      "4  540003 -97.736191  30.310455 -97.752182  30.257542\n",
      "...\n",
      "         depart    origLon    origLat    destLon    destLat\n",
      "3821714  626398 -97.911583  30.342222 -97.825188  30.455456\n",
      "3821715  626399 -97.911469  30.393461 -98.121582  30.384962\n",
      "3821716  626399 -97.750961  30.376324 -97.710365  30.472385\n",
      "3821717  626399 -97.736420  30.337463 -97.802025  30.252131\n",
      "3821718  626399 -97.737213  30.244926 -97.748375  30.187828 \n",
      "\n"
     ]
    }
   ],
   "source": [
    "''' diffuse trips - fill trip set with trips from count table using diffused locations '''\n",
    "if testRandom or skipDiffusion:\n",
    "    tripSet = fillNzPairTripSet(countTable, tripSet, tazTable, secPerSlot, startEpoch)\n",
    "else:\n",
    "    tripSet, diffusionRunTime = fillDiffusedTripSet(centroidGdf, tazAreaGdf, countTable, tripSet, tazTable, \\\n",
    "                                 secPerSlot, startEpoch, diffusionFactor, normalDiffusion)"
   ]
  },
  {
   "cell_type": "code",
   "execution_count": 629,
   "metadata": {},
   "outputs": [
    {
     "name": "stdout",
     "output_type": "stream",
     "text": [
      "\n"
     ]
    },
    {
     "data": {
      "image/png": "[encoded data removed]",
      "text/plain": [
       "<matplotlib.figure.Figure at 0x1222ffcf8>"
      ]
     },
     "metadata": {},
     "output_type": "display_data"
    }
   ],
   "source": [
    "''' plot profile - profile of trips for this time of day period '''\n",
    "plotTimeOfDayProfile(profile, timeOfDayString)"
   ]
  },
  {
   "cell_type": "code",
   "execution_count": 630,
   "metadata": {},
   "outputs": [
    {
     "name": "stdout",
     "output_type": "stream",
     "text": [
      "\n",
      "                 - Example orig/dest trip count series -\n",
      "Synthesized trip counts for single TAZ pair [ 361 , 360 ] ingested profile:\n",
      "[0 1 0 ..., 0 0 0]\n",
      "\n",
      "countTable dtype: int16\n",
      "non-zero OD pair index: 4073\n",
      "2953 trips synthesized, 2864 projected\n",
      "\n"
     ]
    },
    {
     "data": {
      "image/png": "[encoded data removed]",
      "text/plain": [
       "<matplotlib.figure.Figure at 0x121583240>"
      ]
     },
     "metadata": {},
     "output_type": "display_data"
    }
   ],
   "source": [
    "''' OD pair example - trips from a single origin/destination TAZ pair '''\n",
    "showTimeOfDayExample(tripTable, countTable, numSlots, scaleFactor)"
   ]
  },
  {
   "cell_type": "code",
   "execution_count": 631,
   "metadata": {},
   "outputs": [
    {
     "name": "stdout",
     "output_type": "stream",
     "text": [
      "Saving ...\n",
      "trip_set_test_all_day.csv\n",
      "Total trips in trip set: 3,821,719\n",
      "Seconds to save tripSet: 26.04\n"
     ]
    }
   ],
   "source": [
    "''' tripset file - save the trip set '''\n",
    "saveTripSet(tripSet, fileDir, tripSetFileName)"
   ]
  },
  {
   "cell_type": "code",
   "execution_count": 632,
   "metadata": {
    "collapsed": true
   },
   "outputs": [],
   "source": [
    "''' shape file - read back tripset file and save shape file of TAZ boundaries, centroids and diffused origins '''\n",
    "if saveShapeFile and not testRandom:\n",
    "    originGdf, destinationGdf = readBackTripset(fileDir, tripSetFileName)\n",
    "    saveToShapeFile(tazAreaGdf, centroidGdf, originGdf, destinationGdf, shapeFileDir)"
   ]
  },
  {
   "cell_type": "code",
   "execution_count": 633,
   "metadata": {},
   "outputs": [
    {
     "name": "stdout",
     "output_type": "stream",
     "text": [
      "Seconds running main execution flow without diffusion: 34.08\n",
      "Seconds running the diffusion of OD locations: 111.85\n",
      "Seconds running total main execution flow: 145.93\n"
     ]
    }
   ],
   "source": [
    "'''time stats '''\n",
    "totalTime = time.time()-mainTime\n",
    "print('Seconds running main execution flow without diffusion:', '{:5.2f}'.format(totalTime-diffusionRunTime))\n",
    "print('Seconds running the diffusion of OD locations:', '{:5.2f}'.format(diffusionRunTime))\n",
    "print('Seconds running total main execution flow:', '{:5.2f}'.format(totalTime))"
   ]
  },
  {
   "cell_type": "markdown",
   "metadata": {},
   "source": [
    "<a id=\"section_end\"></a>\n",
    "#### &nbsp;&nbsp;&nbsp;&nbsp;&nbsp; [&#8679;](#section_mef)&nbsp;&nbsp;&nbsp;&nbsp;&nbsp; [top](#section_top)\n"
   ]
  },
  {
   "cell_type": "code",
   "execution_count": null,
   "metadata": {
    "collapsed": true
   },
   "outputs": [],
   "source": []
  }
 ],
 "metadata": {
  "kernelspec": {
   "display_name": "Python 3",
   "language": "python",
   "name": "python3"
  },
  "language_info": {
   "codemirror_mode": {
    "name": "ipython",
    "version": 3
   },
   "file_extension": ".py",
   "mimetype": "text/x-python",
   "name": "python",
   "nbconvert_exporter": "python",
   "pygments_lexer": "ipython3",
   "version": "3.6.3"
  }
 },
 "nbformat": 4,
 "nbformat_minor": 2
}
